{
 "cells": [
  {
   "cell_type": "code",
   "execution_count": 25,
   "metadata": {},
   "outputs": [],
   "source": [
    "from utils.dataloader import DataLoader\n",
    "from utils.osmGraph import GraphFromHmlFile, GraphFromPlace\n",
    "import os\n",
    "import pandas as pd\n",
    "import io\n",
    "import geopandas as gpd\n",
    "from utils.apiKeys import Censusapi\n",
    "import requests\n",
    "import plotly.graph_objects as go\n",
    "import numpy as np\n",
    "import plotly\n",
    "import osmnx as ox\n"
   ]
  },
  {
   "cell_type": "code",
   "execution_count": 2,
   "metadata": {},
   "outputs": [],
   "source": [
    "dataFolder = \"./data\""
   ]
  },
  {
   "cell_type": "code",
   "execution_count": 3,
   "metadata": {},
   "outputs": [
    {
     "name": "stdout",
     "output_type": "stream",
     "text": [
      "967835\n"
     ]
    }
   ],
   "source": [
    "graphFileName = \"minnesota.graphml\"\n",
    "graph = GraphFromHmlFile(os.path.join(dataFolder, graphFileName))\n",
    "print(len(graph.edgesGdf))"
   ]
  },
  {
   "cell_type": "code",
   "execution_count": 4,
   "metadata": {},
   "outputs": [],
   "source": [
    "stationFileName = \"stationData_MN.csv\"\n",
    "stationData = DataLoader.readCSV(os.path.join(dataFolder, stationFileName))"
   ]
  },
  {
   "cell_type": "code",
   "execution_count": 5,
   "metadata": {},
   "outputs": [
    {
     "data": {
      "text/html": [
       "<div>\n",
       "<style scoped>\n",
       "    .dataframe tbody tr th:only-of-type {\n",
       "        vertical-align: middle;\n",
       "    }\n",
       "\n",
       "    .dataframe tbody tr th {\n",
       "        vertical-align: top;\n",
       "    }\n",
       "\n",
       "    .dataframe thead th {\n",
       "        text-align: right;\n",
       "    }\n",
       "</style>\n",
       "<table border=\"1\" class=\"dataframe\">\n",
       "  <thead>\n",
       "    <tr style=\"text-align: right;\">\n",
       "      <th></th>\n",
       "      <th>Unnamed: 0</th>\n",
       "      <th>ZIP</th>\n",
       "      <th>Latitude</th>\n",
       "      <th>Longitude</th>\n",
       "      <th>EV Level1 EVSE Num</th>\n",
       "      <th>EV Level2 EVSE Num</th>\n",
       "      <th>EV DC Fast Count</th>\n",
       "    </tr>\n",
       "  </thead>\n",
       "  <tbody>\n",
       "    <tr>\n",
       "      <th>count</th>\n",
       "      <td>559.000000</td>\n",
       "      <td>559.000000</td>\n",
       "      <td>559.000000</td>\n",
       "      <td>559.000000</td>\n",
       "      <td>559.000000</td>\n",
       "      <td>559.000000</td>\n",
       "      <td>559.000000</td>\n",
       "    </tr>\n",
       "    <tr>\n",
       "      <th>mean</th>\n",
       "      <td>279.000000</td>\n",
       "      <td>55482.341682</td>\n",
       "      <td>45.113029</td>\n",
       "      <td>-93.351857</td>\n",
       "      <td>0.039356</td>\n",
       "      <td>1.930233</td>\n",
       "      <td>0.431127</td>\n",
       "    </tr>\n",
       "    <tr>\n",
       "      <th>std</th>\n",
       "      <td>161.513673</td>\n",
       "      <td>405.437592</td>\n",
       "      <td>0.795041</td>\n",
       "      <td>0.799114</td>\n",
       "      <td>0.547287</td>\n",
       "      <td>1.322726</td>\n",
       "      <td>1.535190</td>\n",
       "    </tr>\n",
       "    <tr>\n",
       "      <th>min</th>\n",
       "      <td>0.000000</td>\n",
       "      <td>53662.000000</td>\n",
       "      <td>43.633850</td>\n",
       "      <td>-96.767240</td>\n",
       "      <td>0.000000</td>\n",
       "      <td>0.000000</td>\n",
       "      <td>0.000000</td>\n",
       "    </tr>\n",
       "    <tr>\n",
       "      <th>25%</th>\n",
       "      <td>139.500000</td>\n",
       "      <td>55124.500000</td>\n",
       "      <td>44.858374</td>\n",
       "      <td>-93.446979</td>\n",
       "      <td>0.000000</td>\n",
       "      <td>1.000000</td>\n",
       "      <td>0.000000</td>\n",
       "    </tr>\n",
       "    <tr>\n",
       "      <th>50%</th>\n",
       "      <td>279.000000</td>\n",
       "      <td>55405.000000</td>\n",
       "      <td>44.969550</td>\n",
       "      <td>-93.275995</td>\n",
       "      <td>0.000000</td>\n",
       "      <td>2.000000</td>\n",
       "      <td>0.000000</td>\n",
       "    </tr>\n",
       "    <tr>\n",
       "      <th>75%</th>\n",
       "      <td>418.500000</td>\n",
       "      <td>55606.000000</td>\n",
       "      <td>45.078028</td>\n",
       "      <td>-93.088530</td>\n",
       "      <td>0.000000</td>\n",
       "      <td>2.000000</td>\n",
       "      <td>0.000000</td>\n",
       "    </tr>\n",
       "    <tr>\n",
       "      <th>max</th>\n",
       "      <td>558.000000</td>\n",
       "      <td>56636.000000</td>\n",
       "      <td>48.054129</td>\n",
       "      <td>-89.692650</td>\n",
       "      <td>12.000000</td>\n",
       "      <td>16.000000</td>\n",
       "      <td>12.000000</td>\n",
       "    </tr>\n",
       "  </tbody>\n",
       "</table>\n",
       "</div>"
      ],
      "text/plain": [
       "       Unnamed: 0           ZIP    Latitude   Longitude  EV Level1 EVSE Num  \\\n",
       "count  559.000000    559.000000  559.000000  559.000000          559.000000   \n",
       "mean   279.000000  55482.341682   45.113029  -93.351857            0.039356   \n",
       "std    161.513673    405.437592    0.795041    0.799114            0.547287   \n",
       "min      0.000000  53662.000000   43.633850  -96.767240            0.000000   \n",
       "25%    139.500000  55124.500000   44.858374  -93.446979            0.000000   \n",
       "50%    279.000000  55405.000000   44.969550  -93.275995            0.000000   \n",
       "75%    418.500000  55606.000000   45.078028  -93.088530            0.000000   \n",
       "max    558.000000  56636.000000   48.054129  -89.692650           12.000000   \n",
       "\n",
       "       EV Level2 EVSE Num  EV DC Fast Count  \n",
       "count          559.000000        559.000000  \n",
       "mean             1.930233          0.431127  \n",
       "std              1.322726          1.535190  \n",
       "min              0.000000          0.000000  \n",
       "25%              1.000000          0.000000  \n",
       "50%              2.000000          0.000000  \n",
       "75%              2.000000          0.000000  \n",
       "max             16.000000         12.000000  "
      ]
     },
     "execution_count": 5,
     "metadata": {},
     "output_type": "execute_result"
    }
   ],
   "source": [
    "stationData.describe()"
   ]
  },
  {
   "cell_type": "code",
   "execution_count": 6,
   "metadata": {},
   "outputs": [],
   "source": [
    "stationDataSelected = stationData[stationData['ZIP'] == 55455]"
   ]
  },
  {
   "cell_type": "code",
   "execution_count": 7,
   "metadata": {},
   "outputs": [
    {
     "data": {
      "text/plain": [
       "Int64Index([36, 52, 76, 77, 80, 81, 105, 188], dtype='int64')"
      ]
     },
     "execution_count": 7,
     "metadata": {},
     "output_type": "execute_result"
    }
   ],
   "source": [
    "stationDataSelected.index"
   ]
  },
  {
   "cell_type": "code",
   "execution_count": 8,
   "metadata": {},
   "outputs": [],
   "source": [
    "stationPositionList = []\n",
    "for i in stationDataSelected.index:\n",
    "    stationPositionList.append((stationDataSelected.loc[i, 'Latitude'], stationDataSelected.loc[i, 'Longitude']))"
   ]
  },
  {
   "cell_type": "code",
   "execution_count": 9,
   "metadata": {},
   "outputs": [
    {
     "data": {
      "text/plain": [
       "[(44.974036, -93.230989),\n",
       " (44.969677, -93.243328),\n",
       " (44.97145, -93.236027),\n",
       " (44.976321, -93.23395),\n",
       " (44.978214, -93.224562),\n",
       " (44.976277, -93.228946),\n",
       " (44.973875, -93.230153),\n",
       " (44.979167, -93.228946)]"
      ]
     },
     "execution_count": 9,
     "metadata": {},
     "output_type": "execute_result"
    }
   ],
   "source": [
    "stationPositionList"
   ]
  },
  {
   "cell_type": "code",
   "execution_count": 10,
   "metadata": {},
   "outputs": [],
   "source": [
    "censusFileName = \"censusData_MN_Population.csv\"\n",
    "censusData = DataLoader.readCSV(os.path.join(dataFolder, censusFileName))"
   ]
  },
  {
   "cell_type": "code",
   "execution_count": 11,
   "metadata": {},
   "outputs": [
    {
     "data": {
      "text/html": [
       "<div>\n",
       "<style scoped>\n",
       "    .dataframe tbody tr th:only-of-type {\n",
       "        vertical-align: middle;\n",
       "    }\n",
       "\n",
       "    .dataframe tbody tr th {\n",
       "        vertical-align: top;\n",
       "    }\n",
       "\n",
       "    .dataframe thead th {\n",
       "        text-align: right;\n",
       "    }\n",
       "</style>\n",
       "<table border=\"1\" class=\"dataframe\">\n",
       "  <thead>\n",
       "    <tr style=\"text-align: right;\">\n",
       "      <th></th>\n",
       "      <th>Unnamed: 0</th>\n",
       "      <th>STATEFP</th>\n",
       "      <th>COUNTYFP</th>\n",
       "      <th>TRACTCE</th>\n",
       "      <th>BLKGRPCE</th>\n",
       "      <th>GEOID</th>\n",
       "      <th>ALAND</th>\n",
       "      <th>AWATER</th>\n",
       "      <th>INTPTLAT</th>\n",
       "      <th>INTPTLON</th>\n",
       "      <th>B01001_001E</th>\n",
       "      <th>state</th>\n",
       "      <th>county</th>\n",
       "      <th>tract</th>\n",
       "      <th>block group</th>\n",
       "      <th>geoid</th>\n",
       "    </tr>\n",
       "  </thead>\n",
       "  <tbody>\n",
       "    <tr>\n",
       "      <th>count</th>\n",
       "      <td>4706.000000</td>\n",
       "      <td>4706.0</td>\n",
       "      <td>4706.000000</td>\n",
       "      <td>4706.000000</td>\n",
       "      <td>4706.000000</td>\n",
       "      <td>4.706000e+03</td>\n",
       "      <td>4.706000e+03</td>\n",
       "      <td>4.706000e+03</td>\n",
       "      <td>4706.000000</td>\n",
       "      <td>4706.000000</td>\n",
       "      <td>4706.000000</td>\n",
       "      <td>4706.0</td>\n",
       "      <td>4706.000000</td>\n",
       "      <td>4706.000000</td>\n",
       "      <td>4706.000000</td>\n",
       "      <td>4.706000e+03</td>\n",
       "    </tr>\n",
       "    <tr>\n",
       "      <th>mean</th>\n",
       "      <td>2352.500000</td>\n",
       "      <td>27.0</td>\n",
       "      <td>80.320017</td>\n",
       "      <td>204739.733532</td>\n",
       "      <td>2.238207</td>\n",
       "      <td>2.708052e+11</td>\n",
       "      <td>4.382324e+07</td>\n",
       "      <td>4.026745e+06</td>\n",
       "      <td>45.232614</td>\n",
       "      <td>-93.594910</td>\n",
       "      <td>1190.005525</td>\n",
       "      <td>27.0</td>\n",
       "      <td>80.320017</td>\n",
       "      <td>204739.733532</td>\n",
       "      <td>2.238207</td>\n",
       "      <td>2.708052e+11</td>\n",
       "    </tr>\n",
       "    <tr>\n",
       "      <th>std</th>\n",
       "      <td>1358.649513</td>\n",
       "      <td>0.0</td>\n",
       "      <td>50.377466</td>\n",
       "      <td>307551.101353</td>\n",
       "      <td>1.143291</td>\n",
       "      <td>5.039194e+08</td>\n",
       "      <td>1.459062e+08</td>\n",
       "      <td>7.060843e+07</td>\n",
       "      <td>0.967383</td>\n",
       "      <td>1.000160</td>\n",
       "      <td>535.489228</td>\n",
       "      <td>0.0</td>\n",
       "      <td>50.377466</td>\n",
       "      <td>307551.101353</td>\n",
       "      <td>1.143291</td>\n",
       "      <td>5.039194e+08</td>\n",
       "    </tr>\n",
       "    <tr>\n",
       "      <th>min</th>\n",
       "      <td>0.000000</td>\n",
       "      <td>27.0</td>\n",
       "      <td>1.000000</td>\n",
       "      <td>100.000000</td>\n",
       "      <td>0.000000</td>\n",
       "      <td>2.700177e+11</td>\n",
       "      <td>0.000000e+00</td>\n",
       "      <td>0.000000e+00</td>\n",
       "      <td>43.511983</td>\n",
       "      <td>-97.029791</td>\n",
       "      <td>0.000000</td>\n",
       "      <td>27.0</td>\n",
       "      <td>1.000000</td>\n",
       "      <td>100.000000</td>\n",
       "      <td>0.000000</td>\n",
       "      <td>2.700177e+11</td>\n",
       "    </tr>\n",
       "    <tr>\n",
       "      <th>25%</th>\n",
       "      <td>1176.250000</td>\n",
       "      <td>27.0</td>\n",
       "      <td>41.000000</td>\n",
       "      <td>26708.750000</td>\n",
       "      <td>1.000000</td>\n",
       "      <td>2.704145e+11</td>\n",
       "      <td>6.362640e+05</td>\n",
       "      <td>0.000000e+00</td>\n",
       "      <td>44.819986</td>\n",
       "      <td>-93.830478</td>\n",
       "      <td>816.250000</td>\n",
       "      <td>27.0</td>\n",
       "      <td>41.000000</td>\n",
       "      <td>26708.750000</td>\n",
       "      <td>1.000000</td>\n",
       "      <td>2.704145e+11</td>\n",
       "    </tr>\n",
       "    <tr>\n",
       "      <th>50%</th>\n",
       "      <td>2352.500000</td>\n",
       "      <td>27.0</td>\n",
       "      <td>53.000000</td>\n",
       "      <td>60739.000000</td>\n",
       "      <td>2.000000</td>\n",
       "      <td>2.705313e+11</td>\n",
       "      <td>1.582888e+06</td>\n",
       "      <td>1.610050e+04</td>\n",
       "      <td>44.984657</td>\n",
       "      <td>-93.307253</td>\n",
       "      <td>1099.000000</td>\n",
       "      <td>27.0</td>\n",
       "      <td>53.000000</td>\n",
       "      <td>60739.000000</td>\n",
       "      <td>2.000000</td>\n",
       "      <td>2.705313e+11</td>\n",
       "    </tr>\n",
       "    <tr>\n",
       "      <th>75%</th>\n",
       "      <td>3528.750000</td>\n",
       "      <td>27.0</td>\n",
       "      <td>123.000000</td>\n",
       "      <td>130276.500000</td>\n",
       "      <td>3.000000</td>\n",
       "      <td>2.712304e+11</td>\n",
       "      <td>1.627754e+07</td>\n",
       "      <td>4.741442e+05</td>\n",
       "      <td>45.334613</td>\n",
       "      <td>-93.114646</td>\n",
       "      <td>1481.750000</td>\n",
       "      <td>27.0</td>\n",
       "      <td>123.000000</td>\n",
       "      <td>130276.500000</td>\n",
       "      <td>3.000000</td>\n",
       "      <td>2.712304e+11</td>\n",
       "    </tr>\n",
       "    <tr>\n",
       "      <th>max</th>\n",
       "      <td>4705.000000</td>\n",
       "      <td>27.0</td>\n",
       "      <td>173.000000</td>\n",
       "      <td>990100.000000</td>\n",
       "      <td>7.000000</td>\n",
       "      <td>2.717397e+11</td>\n",
       "      <td>3.877442e+09</td>\n",
       "      <td>4.185238e+09</td>\n",
       "      <td>48.973930</td>\n",
       "      <td>-90.016378</td>\n",
       "      <td>4484.000000</td>\n",
       "      <td>27.0</td>\n",
       "      <td>173.000000</td>\n",
       "      <td>990100.000000</td>\n",
       "      <td>7.000000</td>\n",
       "      <td>2.717397e+11</td>\n",
       "    </tr>\n",
       "  </tbody>\n",
       "</table>\n",
       "</div>"
      ],
      "text/plain": [
       "        Unnamed: 0  STATEFP     COUNTYFP        TRACTCE     BLKGRPCE  \\\n",
       "count  4706.000000   4706.0  4706.000000    4706.000000  4706.000000   \n",
       "mean   2352.500000     27.0    80.320017  204739.733532     2.238207   \n",
       "std    1358.649513      0.0    50.377466  307551.101353     1.143291   \n",
       "min       0.000000     27.0     1.000000     100.000000     0.000000   \n",
       "25%    1176.250000     27.0    41.000000   26708.750000     1.000000   \n",
       "50%    2352.500000     27.0    53.000000   60739.000000     2.000000   \n",
       "75%    3528.750000     27.0   123.000000  130276.500000     3.000000   \n",
       "max    4705.000000     27.0   173.000000  990100.000000     7.000000   \n",
       "\n",
       "              GEOID         ALAND        AWATER     INTPTLAT     INTPTLON  \\\n",
       "count  4.706000e+03  4.706000e+03  4.706000e+03  4706.000000  4706.000000   \n",
       "mean   2.708052e+11  4.382324e+07  4.026745e+06    45.232614   -93.594910   \n",
       "std    5.039194e+08  1.459062e+08  7.060843e+07     0.967383     1.000160   \n",
       "min    2.700177e+11  0.000000e+00  0.000000e+00    43.511983   -97.029791   \n",
       "25%    2.704145e+11  6.362640e+05  0.000000e+00    44.819986   -93.830478   \n",
       "50%    2.705313e+11  1.582888e+06  1.610050e+04    44.984657   -93.307253   \n",
       "75%    2.712304e+11  1.627754e+07  4.741442e+05    45.334613   -93.114646   \n",
       "max    2.717397e+11  3.877442e+09  4.185238e+09    48.973930   -90.016378   \n",
       "\n",
       "       B01001_001E   state       county          tract  block group  \\\n",
       "count  4706.000000  4706.0  4706.000000    4706.000000  4706.000000   \n",
       "mean   1190.005525    27.0    80.320017  204739.733532     2.238207   \n",
       "std     535.489228     0.0    50.377466  307551.101353     1.143291   \n",
       "min       0.000000    27.0     1.000000     100.000000     0.000000   \n",
       "25%     816.250000    27.0    41.000000   26708.750000     1.000000   \n",
       "50%    1099.000000    27.0    53.000000   60739.000000     2.000000   \n",
       "75%    1481.750000    27.0   123.000000  130276.500000     3.000000   \n",
       "max    4484.000000    27.0   173.000000  990100.000000     7.000000   \n",
       "\n",
       "              geoid  \n",
       "count  4.706000e+03  \n",
       "mean   2.708052e+11  \n",
       "std    5.039194e+08  \n",
       "min    2.700177e+11  \n",
       "25%    2.704145e+11  \n",
       "50%    2.705313e+11  \n",
       "75%    2.712304e+11  \n",
       "max    2.717397e+11  "
      ]
     },
     "execution_count": 11,
     "metadata": {},
     "output_type": "execute_result"
    }
   ],
   "source": [
    "censusData.describe()"
   ]
  },
  {
   "cell_type": "code",
   "execution_count": 12,
   "metadata": {},
   "outputs": [],
   "source": [
    "censusDataSelected = censusData[censusData['TRACTCE']==104901]"
   ]
  },
  {
   "cell_type": "code",
   "execution_count": 13,
   "metadata": {},
   "outputs": [
    {
     "data": {
      "text/html": [
       "<div>\n",
       "<style scoped>\n",
       "    .dataframe tbody tr th:only-of-type {\n",
       "        vertical-align: middle;\n",
       "    }\n",
       "\n",
       "    .dataframe tbody tr th {\n",
       "        vertical-align: top;\n",
       "    }\n",
       "\n",
       "    .dataframe thead th {\n",
       "        text-align: right;\n",
       "    }\n",
       "</style>\n",
       "<table border=\"1\" class=\"dataframe\">\n",
       "  <thead>\n",
       "    <tr style=\"text-align: right;\">\n",
       "      <th></th>\n",
       "      <th>Unnamed: 0</th>\n",
       "      <th>STATEFP</th>\n",
       "      <th>COUNTYFP</th>\n",
       "      <th>TRACTCE</th>\n",
       "      <th>BLKGRPCE</th>\n",
       "      <th>GEOID</th>\n",
       "      <th>NAMELSAD</th>\n",
       "      <th>MTFCC</th>\n",
       "      <th>FUNCSTAT</th>\n",
       "      <th>ALAND</th>\n",
       "      <th>...</th>\n",
       "      <th>INTPTLAT</th>\n",
       "      <th>INTPTLON</th>\n",
       "      <th>geometry</th>\n",
       "      <th>NAME</th>\n",
       "      <th>B01001_001E</th>\n",
       "      <th>state</th>\n",
       "      <th>county</th>\n",
       "      <th>tract</th>\n",
       "      <th>block group</th>\n",
       "      <th>geoid</th>\n",
       "    </tr>\n",
       "  </thead>\n",
       "  <tbody>\n",
       "    <tr>\n",
       "      <th>559</th>\n",
       "      <td>559</td>\n",
       "      <td>27</td>\n",
       "      <td>53</td>\n",
       "      <td>104901</td>\n",
       "      <td>1</td>\n",
       "      <td>270531049011</td>\n",
       "      <td>Block Group 1</td>\n",
       "      <td>G5030</td>\n",
       "      <td>S</td>\n",
       "      <td>421213</td>\n",
       "      <td>...</td>\n",
       "      <td>44.971982</td>\n",
       "      <td>-93.233441</td>\n",
       "      <td>POLYGON ((-93.239268 44.973257, -93.2388 44.97...</td>\n",
       "      <td>Block Group 1, Census Tract 1049.01, Hennepin ...</td>\n",
       "      <td>4484</td>\n",
       "      <td>27</td>\n",
       "      <td>53</td>\n",
       "      <td>104901</td>\n",
       "      <td>1</td>\n",
       "      <td>270531049011</td>\n",
       "    </tr>\n",
       "    <tr>\n",
       "      <th>763</th>\n",
       "      <td>763</td>\n",
       "      <td>27</td>\n",
       "      <td>53</td>\n",
       "      <td>104901</td>\n",
       "      <td>2</td>\n",
       "      <td>270531049012</td>\n",
       "      <td>Block Group 2</td>\n",
       "      <td>G5030</td>\n",
       "      <td>S</td>\n",
       "      <td>908632</td>\n",
       "      <td>...</td>\n",
       "      <td>44.977829</td>\n",
       "      <td>-93.234230</td>\n",
       "      <td>POLYGON ((-93.243853 44.979307999999996, -93.2...</td>\n",
       "      <td>Block Group 2, Census Tract 1049.01, Hennepin ...</td>\n",
       "      <td>1998</td>\n",
       "      <td>27</td>\n",
       "      <td>53</td>\n",
       "      <td>104901</td>\n",
       "      <td>2</td>\n",
       "      <td>270531049012</td>\n",
       "    </tr>\n",
       "  </tbody>\n",
       "</table>\n",
       "<p>2 rows × 21 columns</p>\n",
       "</div>"
      ],
      "text/plain": [
       "     Unnamed: 0  STATEFP  COUNTYFP  TRACTCE  BLKGRPCE         GEOID  \\\n",
       "559         559       27        53   104901         1  270531049011   \n",
       "763         763       27        53   104901         2  270531049012   \n",
       "\n",
       "          NAMELSAD  MTFCC FUNCSTAT   ALAND  ...   INTPTLAT   INTPTLON  \\\n",
       "559  Block Group 1  G5030        S  421213  ...  44.971982 -93.233441   \n",
       "763  Block Group 2  G5030        S  908632  ...  44.977829 -93.234230   \n",
       "\n",
       "                                              geometry  \\\n",
       "559  POLYGON ((-93.239268 44.973257, -93.2388 44.97...   \n",
       "763  POLYGON ((-93.243853 44.979307999999996, -93.2...   \n",
       "\n",
       "                                                  NAME B01001_001E  state  \\\n",
       "559  Block Group 1, Census Tract 1049.01, Hennepin ...        4484     27   \n",
       "763  Block Group 2, Census Tract 1049.01, Hennepin ...        1998     27   \n",
       "\n",
       "     county   tract  block group         geoid  \n",
       "559      53  104901            1  270531049011  \n",
       "763      53  104901            2  270531049012  \n",
       "\n",
       "[2 rows x 21 columns]"
      ]
     },
     "execution_count": 13,
     "metadata": {},
     "output_type": "execute_result"
    }
   ],
   "source": [
    "censusDataSelected"
   ]
  },
  {
   "cell_type": "code",
   "execution_count": 14,
   "metadata": {},
   "outputs": [],
   "source": [
    "censusBlockList = []\n",
    "for i in censusDataSelected.index:\n",
    "    censusBlockList.append((censusDataSelected.loc[i, 'INTPTLAT'], censusDataSelected.loc[i, 'INTPTLON']))"
   ]
  },
  {
   "cell_type": "code",
   "execution_count": 15,
   "metadata": {},
   "outputs": [
    {
     "data": {
      "text/plain": [
       "[(44.9719823, -93.2334415), (44.9778291, -93.2342296)]"
      ]
     },
     "execution_count": 15,
     "metadata": {},
     "output_type": "execute_result"
    }
   ],
   "source": [
    "censusBlockList"
   ]
  },
  {
   "cell_type": "code",
   "execution_count": 16,
   "metadata": {},
   "outputs": [],
   "source": [
    "positionDict = {\"station\": stationPositionList, \"census block group\": censusBlockList}"
   ]
  },
  {
   "cell_type": "code",
   "execution_count": 17,
   "metadata": {},
   "outputs": [],
   "source": [
    "figureFolder = \"./results\"\n",
    "figureName = \"test.html\"\n",
    "graph.plotPointList(positionDict, ['green', 'red'] ,os.path.join(figureFolder,figureName))"
   ]
  },
  {
   "cell_type": "code",
   "execution_count": 18,
   "metadata": {},
   "outputs": [
    {
     "data": {
      "text/plain": [
       "([320363001,\n",
       "  33822058,\n",
       "  9421986672,\n",
       "  33842546,\n",
       "  34566808,\n",
       "  261319041,\n",
       "  261298089,\n",
       "  34191216],\n",
       " [70.46782681917685,\n",
       "  66.12555583876915,\n",
       "  98.20830048064921,\n",
       "  73.64302031497375,\n",
       "  130.50664577950886,\n",
       "  91.46854165968767,\n",
       "  100.56309819822971,\n",
       "  142.71768466725018])"
      ]
     },
     "execution_count": 18,
     "metadata": {},
     "output_type": "execute_result"
    }
   ],
   "source": [
    "stationLatList,  stationLonList = zip(*stationPositionList)\n",
    "stationNodeList,  stationDisToNode = graph.getNearestNode(stationLatList, stationLonList)\n",
    "stationNodeList,  stationDisToNode"
   ]
  },
  {
   "cell_type": "code",
   "execution_count": 19,
   "metadata": {},
   "outputs": [
    {
     "data": {
      "text/plain": [
       "([246710361, 34177358], [62.441805227521264, 73.49242906040053])"
      ]
     },
     "execution_count": 19,
     "metadata": {},
     "output_type": "execute_result"
    }
   ],
   "source": [
    "censusLatList,  censusLonList = zip(*censusBlockList)\n",
    "censusNodeList,  censusDisToNode = graph.getNearestNode(censusLatList, censusLonList)\n",
    "censusNodeList,  censusDisToNode"
   ]
  },
  {
   "cell_type": "code",
   "execution_count": 20,
   "metadata": {},
   "outputs": [],
   "source": [
    "distanceToEachStation = {}\n",
    "pathList = []\n",
    "for o in censusNodeList:\n",
    "    disList = []\n",
    "    for d in stationNodeList:\n",
    "        path = graph.shortestPath(o, d)\n",
    "        pathList.append(path)\n",
    "        disList.append(graph.calPathLength(path))\n",
    "    distanceToEachStation[o] = disList"
   ]
  },
  {
   "cell_type": "code",
   "execution_count": 21,
   "metadata": {},
   "outputs": [
    {
     "data": {
      "text/plain": [
       "{246710361: [1757.195,\n",
       "  2446.6720000000005,\n",
       "  199.637,\n",
       "  1210.4830000000002,\n",
       "  2013.714,\n",
       "  1762.9250000000002,\n",
       "  1556.426,\n",
       "  1597.385],\n",
       " 34177358: [843.027,\n",
       "  2378.996,\n",
       "  1323.3860000000002,\n",
       "  263.11899999999997,\n",
       "  790.1579999999999,\n",
       "  539.3689999999999,\n",
       "  642.258,\n",
       "  373.82899999999995]}"
      ]
     },
     "execution_count": 21,
     "metadata": {},
     "output_type": "execute_result"
    }
   ],
   "source": [
    "distanceToEachStation"
   ]
  },
  {
   "cell_type": "code",
   "execution_count": 22,
   "metadata": {},
   "outputs": [
    {
     "data": {
      "text/plain": [
       "[246710361,\n",
       " 246710356,\n",
       " 1821777933,\n",
       " 246710346,\n",
       " 34198362,\n",
       " 34665658,\n",
       " 34646309,\n",
       " 244113404,\n",
       " 33359705,\n",
       " 261298089,\n",
       " 244111945,\n",
       " 320363001]"
      ]
     },
     "execution_count": 22,
     "metadata": {},
     "output_type": "execute_result"
    }
   ],
   "source": [
    "pathList[0]"
   ]
  },
  {
   "cell_type": "code",
   "execution_count": 23,
   "metadata": {},
   "outputs": [],
   "source": [
    "figureName = \"testPath.html\"\n",
    "graph.plotTrajList([graph.nodeList2GPSTraj(pathList[0])], os.path.join(figureFolder,figureName))"
   ]
  },
  {
   "cell_type": "code",
   "execution_count": 26,
   "metadata": {},
   "outputs": [],
   "source": [
    "figureName = \"pointAndTraj.html\"\n",
    "graph.plotTrajAndPoint([graph.nodeList2GPSTraj(pathList[0])], positionDict, ['green', 'red'] ,os.path.join(figureFolder,figureName))"
   ]
  },
  {
   "cell_type": "code",
   "execution_count": null,
   "metadata": {},
   "outputs": [],
   "source": []
  }
 ],
 "metadata": {
  "kernelspec": {
   "display_name": "Python 3.9.13 ('eqCSR')",
   "language": "python",
   "name": "python3"
  },
  "language_info": {
   "codemirror_mode": {
    "name": "ipython",
    "version": 3
   },
   "file_extension": ".py",
   "mimetype": "text/x-python",
   "name": "python",
   "nbconvert_exporter": "python",
   "pygments_lexer": "ipython3",
   "version": "3.9.13"
  },
  "orig_nbformat": 4,
  "vscode": {
   "interpreter": {
    "hash": "54122b1738821401b0adc4a22e65e5564cace2ac4fad685f29e6e97261b3d3d8"
   }
  }
 },
 "nbformat": 4,
 "nbformat_minor": 2
}
