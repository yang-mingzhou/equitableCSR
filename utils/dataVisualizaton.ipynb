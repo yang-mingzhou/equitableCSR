{
 "cells": [
  {
   "cell_type": "code",
   "execution_count": 31,
   "metadata": {},
   "outputs": [],
   "source": [
    "from apiKeys import NRELapi,Censusapi\n",
    "import requests\n",
    "import pandas as pd\n",
    "import io\n",
    "import osmnx as ox"
   ]
  }
 ],
 "metadata": {
  "kernelspec": {
   "display_name": "Python 3.9.12",
   "language": "python",
   "name": "python3"
  },
  "language_info": {
   "codemirror_mode": {
    "name": "ipython",
    "version": 3
   },
   "file_extension": ".py",
   "mimetype": "text/x-python",
   "name": "python",
   "nbconvert_exporter": "python",
   "pygments_lexer": "ipython3",
   "version": "3.9.13"
  },
  "orig_nbformat": 4,
  "vscode": {
   "interpreter": {
    "hash": "54122b1738821401b0adc4a22e65e5564cace2ac4fad685f29e6e97261b3d3d8"
   }
  }
 },
 "nbformat": 4,
 "nbformat_minor": 2
}
