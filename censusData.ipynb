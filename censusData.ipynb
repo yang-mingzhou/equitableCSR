{
 "cells": [
  {
   "cell_type": "code",
   "execution_count": 24,
   "metadata": {},
   "outputs": [],
   "source": [
    "from utils.dataDownloader import StationData\n",
    "from utils.osmGraph import GraphFromHmlFile\n",
    "import os\n",
    "import pandas as pd\n",
    "import io\n",
    "import geopandas as gpd\n",
    "from utils.apiKeys import Censusapi\n",
    "import requests\n"
   ]
  },
  {
   "cell_type": "code",
   "execution_count": 2,
   "metadata": {},
   "outputs": [
    {
     "name": "stdout",
     "output_type": "stream",
     "text": [
      "109283\n"
     ]
    }
   ],
   "source": [
    "dataFolder = \"./data\"\n",
    "graphFileName = \"hennepinCounty.graphml\"\n",
    "graph = GraphFromHmlFile(os.path.join(dataFolder, graphFileName))\n",
    "print(len(graph.edgesGdf))"
   ]
  },
  {
   "cell_type": "code",
   "execution_count": null,
   "metadata": {},
   "outputs": [],
   "source": [
    "stationFileName = \"stationData_MN.csv\"\n",
    "stationData = StationData(os.path.join(dataFolder, stationFileName), download = False)"
   ]
  },
  {
   "cell_type": "code",
   "execution_count": 5,
   "metadata": {},
   "outputs": [
    {
     "data": {
      "text/html": [
       "<div>\n",
       "<style scoped>\n",
       "    .dataframe tbody tr th:only-of-type {\n",
       "        vertical-align: middle;\n",
       "    }\n",
       "\n",
       "    .dataframe tbody tr th {\n",
       "        vertical-align: top;\n",
       "    }\n",
       "\n",
       "    .dataframe thead th {\n",
       "        text-align: right;\n",
       "    }\n",
       "</style>\n",
       "<table border=\"1\" class=\"dataframe\">\n",
       "  <thead>\n",
       "    <tr style=\"text-align: right;\">\n",
       "      <th></th>\n",
       "      <th>ZIP</th>\n",
       "      <th>Latitude</th>\n",
       "      <th>Longitude</th>\n",
       "      <th>EV Level1 EVSE Num</th>\n",
       "      <th>EV Level2 EVSE Num</th>\n",
       "      <th>EV DC Fast Count</th>\n",
       "    </tr>\n",
       "  </thead>\n",
       "  <tbody>\n",
       "    <tr>\n",
       "      <th>count</th>\n",
       "      <td>559.000000</td>\n",
       "      <td>559.000000</td>\n",
       "      <td>559.000000</td>\n",
       "      <td>559.000000</td>\n",
       "      <td>559.000000</td>\n",
       "      <td>559.000000</td>\n",
       "    </tr>\n",
       "    <tr>\n",
       "      <th>mean</th>\n",
       "      <td>55482.341682</td>\n",
       "      <td>45.113029</td>\n",
       "      <td>-93.351857</td>\n",
       "      <td>0.039356</td>\n",
       "      <td>1.930233</td>\n",
       "      <td>0.431127</td>\n",
       "    </tr>\n",
       "    <tr>\n",
       "      <th>std</th>\n",
       "      <td>405.437592</td>\n",
       "      <td>0.795041</td>\n",
       "      <td>0.799114</td>\n",
       "      <td>0.547287</td>\n",
       "      <td>1.322726</td>\n",
       "      <td>1.535190</td>\n",
       "    </tr>\n",
       "    <tr>\n",
       "      <th>min</th>\n",
       "      <td>53662.000000</td>\n",
       "      <td>43.633850</td>\n",
       "      <td>-96.767240</td>\n",
       "      <td>0.000000</td>\n",
       "      <td>0.000000</td>\n",
       "      <td>0.000000</td>\n",
       "    </tr>\n",
       "    <tr>\n",
       "      <th>25%</th>\n",
       "      <td>55124.500000</td>\n",
       "      <td>44.858374</td>\n",
       "      <td>-93.446979</td>\n",
       "      <td>0.000000</td>\n",
       "      <td>1.000000</td>\n",
       "      <td>0.000000</td>\n",
       "    </tr>\n",
       "    <tr>\n",
       "      <th>50%</th>\n",
       "      <td>55405.000000</td>\n",
       "      <td>44.969550</td>\n",
       "      <td>-93.275995</td>\n",
       "      <td>0.000000</td>\n",
       "      <td>2.000000</td>\n",
       "      <td>0.000000</td>\n",
       "    </tr>\n",
       "    <tr>\n",
       "      <th>75%</th>\n",
       "      <td>55606.000000</td>\n",
       "      <td>45.078028</td>\n",
       "      <td>-93.088530</td>\n",
       "      <td>0.000000</td>\n",
       "      <td>2.000000</td>\n",
       "      <td>0.000000</td>\n",
       "    </tr>\n",
       "    <tr>\n",
       "      <th>max</th>\n",
       "      <td>56636.000000</td>\n",
       "      <td>48.054129</td>\n",
       "      <td>-89.692650</td>\n",
       "      <td>12.000000</td>\n",
       "      <td>16.000000</td>\n",
       "      <td>12.000000</td>\n",
       "    </tr>\n",
       "  </tbody>\n",
       "</table>\n",
       "</div>"
      ],
      "text/plain": [
       "                ZIP    Latitude   Longitude  EV Level1 EVSE Num  \\\n",
       "count    559.000000  559.000000  559.000000          559.000000   \n",
       "mean   55482.341682   45.113029  -93.351857            0.039356   \n",
       "std      405.437592    0.795041    0.799114            0.547287   \n",
       "min    53662.000000   43.633850  -96.767240            0.000000   \n",
       "25%    55124.500000   44.858374  -93.446979            0.000000   \n",
       "50%    55405.000000   44.969550  -93.275995            0.000000   \n",
       "75%    55606.000000   45.078028  -93.088530            0.000000   \n",
       "max    56636.000000   48.054129  -89.692650           12.000000   \n",
       "\n",
       "       EV Level2 EVSE Num  EV DC Fast Count  \n",
       "count          559.000000        559.000000  \n",
       "mean             1.930233          0.431127  \n",
       "std              1.322726          1.535190  \n",
       "min              0.000000          0.000000  \n",
       "25%              1.000000          0.000000  \n",
       "50%              2.000000          0.000000  \n",
       "75%              2.000000          0.000000  \n",
       "max             16.000000         12.000000  "
      ]
     },
     "execution_count": 5,
     "metadata": {},
     "output_type": "execute_result"
    }
   ],
   "source": [
    "stationData.data.describe()"
   ]
  },
  {
   "cell_type": "code",
   "execution_count": 15,
   "metadata": {},
   "outputs": [],
   "source": [
    "stationDataSelected = stationData.data[stationData.data['ZIP'] == 55455]"
   ]
  },
  {
   "cell_type": "code",
   "execution_count": 16,
   "metadata": {},
   "outputs": [
    {
     "data": {
      "text/plain": [
       "Int64Index([36, 52, 76, 77, 80, 81, 105, 188], dtype='int64')"
      ]
     },
     "execution_count": 16,
     "metadata": {},
     "output_type": "execute_result"
    }
   ],
   "source": [
    "stationDataSelected.index"
   ]
  },
  {
   "cell_type": "code",
   "execution_count": 17,
   "metadata": {},
   "outputs": [],
   "source": [
    "stationPositionList = []\n",
    "for i in stationDataSelected.index:\n",
    "    stationPositionList.append((stationDataSelected.loc[i, 'Latitude'], stationDataSelected.loc[i, 'Longitude']))"
   ]
  },
  {
   "cell_type": "code",
   "execution_count": 18,
   "metadata": {},
   "outputs": [
    {
     "data": {
      "text/plain": [
       "[(44.974036, -93.230989),\n",
       " (44.969677, -93.243328),\n",
       " (44.97145, -93.236027),\n",
       " (44.976321, -93.23395),\n",
       " (44.978214, -93.224562),\n",
       " (44.976277, -93.228946),\n",
       " (44.973875, -93.230153),\n",
       " (44.979167, -93.228946)]"
      ]
     },
     "execution_count": 18,
     "metadata": {},
     "output_type": "execute_result"
    }
   ],
   "source": [
    "stationPositionList"
   ]
  },
  {
   "cell_type": "code",
   "execution_count": 51,
   "metadata": {},
   "outputs": [],
   "source": [
    "# B01001_001E: population\n",
    "getAttributes = \"NAME,B01001_001E\"\n",
    "censusData = requests.get(\"https://api.census.gov/data/2020/acs/acs5?get=\"+ getAttributes +\"&for=block%20group:*&in=state:27&in=county:*&in=tract:*&key=\"+Censusapi.getKey())"
   ]
  },
  {
   "cell_type": "code",
   "execution_count": 53,
   "metadata": {},
   "outputs": [],
   "source": [
    "censusDataJson = censusData.json()"
   ]
  },
  {
   "cell_type": "code",
   "execution_count": 54,
   "metadata": {},
   "outputs": [],
   "source": [
    "censusDF=pd.DataFrame(censusDataJson[1:], columns=censusDataJson[0])"
   ]
  },
  {
   "cell_type": "code",
   "execution_count": 69,
   "metadata": {},
   "outputs": [],
   "source": [
    "censusDF['GEOID'] = censusDF['state'] + censusDF['county'] + censusDF['tract'] + censusDF['block group']\n",
    "censusDF = censusDF.drop(columns = [\"state\", \"county\", \"tract\", 'block group'])"
   ]
  },
  {
   "cell_type": "code",
   "execution_count": 70,
   "metadata": {},
   "outputs": [
    {
     "data": {
      "text/html": [
       "<div>\n",
       "<style scoped>\n",
       "    .dataframe tbody tr th:only-of-type {\n",
       "        vertical-align: middle;\n",
       "    }\n",
       "\n",
       "    .dataframe tbody tr th {\n",
       "        vertical-align: top;\n",
       "    }\n",
       "\n",
       "    .dataframe thead th {\n",
       "        text-align: right;\n",
       "    }\n",
       "</style>\n",
       "<table border=\"1\" class=\"dataframe\">\n",
       "  <thead>\n",
       "    <tr style=\"text-align: right;\">\n",
       "      <th></th>\n",
       "      <th>NAME</th>\n",
       "      <th>B01001_001E</th>\n",
       "      <th>state</th>\n",
       "      <th>county</th>\n",
       "      <th>tract</th>\n",
       "      <th>block group</th>\n",
       "      <th>geoid</th>\n",
       "      <th>GEOID</th>\n",
       "    </tr>\n",
       "  </thead>\n",
       "  <tbody>\n",
       "    <tr>\n",
       "      <th>0</th>\n",
       "      <td>Block Group 1, Census Tract 9511, Crow Wing Co...</td>\n",
       "      <td>1466</td>\n",
       "      <td>27</td>\n",
       "      <td>035</td>\n",
       "      <td>951100</td>\n",
       "      <td>1</td>\n",
       "      <td>270359511001</td>\n",
       "      <td>270359511001</td>\n",
       "    </tr>\n",
       "    <tr>\n",
       "      <th>1</th>\n",
       "      <td>Block Group 3, Census Tract 9511, Crow Wing Co...</td>\n",
       "      <td>935</td>\n",
       "      <td>27</td>\n",
       "      <td>035</td>\n",
       "      <td>951100</td>\n",
       "      <td>3</td>\n",
       "      <td>270359511003</td>\n",
       "      <td>270359511003</td>\n",
       "    </tr>\n",
       "    <tr>\n",
       "      <th>2</th>\n",
       "      <td>Block Group 2, Census Tract 9512, Crow Wing Co...</td>\n",
       "      <td>982</td>\n",
       "      <td>27</td>\n",
       "      <td>035</td>\n",
       "      <td>951200</td>\n",
       "      <td>2</td>\n",
       "      <td>270359512002</td>\n",
       "      <td>270359512002</td>\n",
       "    </tr>\n",
       "    <tr>\n",
       "      <th>3</th>\n",
       "      <td>Block Group 2, Census Tract 9513.01, Crow Wing...</td>\n",
       "      <td>1033</td>\n",
       "      <td>27</td>\n",
       "      <td>035</td>\n",
       "      <td>951301</td>\n",
       "      <td>2</td>\n",
       "      <td>270359513012</td>\n",
       "      <td>270359513012</td>\n",
       "    </tr>\n",
       "    <tr>\n",
       "      <th>4</th>\n",
       "      <td>Block Group 2, Census Tract 9513.03, Crow Wing...</td>\n",
       "      <td>503</td>\n",
       "      <td>27</td>\n",
       "      <td>035</td>\n",
       "      <td>951303</td>\n",
       "      <td>2</td>\n",
       "      <td>270359513032</td>\n",
       "      <td>270359513032</td>\n",
       "    </tr>\n",
       "  </tbody>\n",
       "</table>\n",
       "</div>"
      ],
      "text/plain": [
       "                                                NAME B01001_001E state county  \\\n",
       "0  Block Group 1, Census Tract 9511, Crow Wing Co...        1466    27    035   \n",
       "1  Block Group 3, Census Tract 9511, Crow Wing Co...         935    27    035   \n",
       "2  Block Group 2, Census Tract 9512, Crow Wing Co...         982    27    035   \n",
       "3  Block Group 2, Census Tract 9513.01, Crow Wing...        1033    27    035   \n",
       "4  Block Group 2, Census Tract 9513.03, Crow Wing...         503    27    035   \n",
       "\n",
       "    tract block group         geoid         GEOID  \n",
       "0  951100           1  270359511001  270359511001  \n",
       "1  951100           3  270359511003  270359511003  \n",
       "2  951200           2  270359512002  270359512002  \n",
       "3  951301           2  270359513012  270359513012  \n",
       "4  951303           2  270359513032  270359513032  "
      ]
     },
     "execution_count": 70,
     "metadata": {},
     "output_type": "execute_result"
    }
   ],
   "source": [
    "censusDF.head()"
   ]
  },
  {
   "cell_type": "code",
   "execution_count": 59,
   "metadata": {},
   "outputs": [],
   "source": [
    "mnBlockGroup = gpd.read_file(\"https://www2.census.gov/geo/tiger/TIGER2020/BG/tl_2020_27_bg.zip\")"
   ]
  },
  {
   "cell_type": "code",
   "execution_count": 60,
   "metadata": {},
   "outputs": [
    {
     "data": {
      "text/plain": [
       "<AxesSubplot:>"
      ]
     },
     "execution_count": 60,
     "metadata": {},
     "output_type": "execute_result"
    },
    {
     "data": {
      "image/png": "[encoded data removed]",
      "text/plain": [
       "<Figure size 432x288 with 1 Axes>"
      ]
     },
     "metadata": {
      "needs_background": "light"
     },
     "output_type": "display_data"
    }
   ],
   "source": [
    "mnBlockGroup.plot()"
   ]
  },
  {
   "cell_type": "code",
   "execution_count": 61,
   "metadata": {},
   "outputs": [
    {
     "data": {
      "text/html": [
       "<div>\n",
       "<style scoped>\n",
       "    .dataframe tbody tr th:only-of-type {\n",
       "        vertical-align: middle;\n",
       "    }\n",
       "\n",
       "    .dataframe tbody tr th {\n",
       "        vertical-align: top;\n",
       "    }\n",
       "\n",
       "    .dataframe thead th {\n",
       "        text-align: right;\n",
       "    }\n",
       "</style>\n",
       "<table border=\"1\" class=\"dataframe\">\n",
       "  <thead>\n",
       "    <tr style=\"text-align: right;\">\n",
       "      <th></th>\n",
       "      <th>STATEFP</th>\n",
       "      <th>COUNTYFP</th>\n",
       "      <th>TRACTCE</th>\n",
       "      <th>BLKGRPCE</th>\n",
       "      <th>GEOID</th>\n",
       "      <th>NAMELSAD</th>\n",
       "      <th>MTFCC</th>\n",
       "      <th>FUNCSTAT</th>\n",
       "      <th>ALAND</th>\n",
       "      <th>AWATER</th>\n",
       "      <th>INTPTLAT</th>\n",
       "      <th>INTPTLON</th>\n",
       "      <th>geometry</th>\n",
       "    </tr>\n",
       "  </thead>\n",
       "  <tbody>\n",
       "    <tr>\n",
       "      <th>0</th>\n",
       "      <td>27</td>\n",
       "      <td>051</td>\n",
       "      <td>070100</td>\n",
       "      <td>1</td>\n",
       "      <td>270510701001</td>\n",
       "      <td>Block Group 1</td>\n",
       "      <td>G5030</td>\n",
       "      <td>S</td>\n",
       "      <td>17698490</td>\n",
       "      <td>1460274</td>\n",
       "      <td>+45.9945919</td>\n",
       "      <td>-095.9708961</td>\n",
       "      <td>POLYGON ((-96.00778 45.97887, -96.00778 45.979...</td>\n",
       "    </tr>\n",
       "    <tr>\n",
       "      <th>1</th>\n",
       "      <td>27</td>\n",
       "      <td>051</td>\n",
       "      <td>070200</td>\n",
       "      <td>3</td>\n",
       "      <td>270510702003</td>\n",
       "      <td>Block Group 3</td>\n",
       "      <td>G5030</td>\n",
       "      <td>S</td>\n",
       "      <td>27137279</td>\n",
       "      <td>586847</td>\n",
       "      <td>+45.8345936</td>\n",
       "      <td>-095.7965525</td>\n",
       "      <td>POLYGON ((-95.84144 45.81994, -95.84144 45.820...</td>\n",
       "    </tr>\n",
       "    <tr>\n",
       "      <th>2</th>\n",
       "      <td>27</td>\n",
       "      <td>051</td>\n",
       "      <td>070200</td>\n",
       "      <td>1</td>\n",
       "      <td>270510702001</td>\n",
       "      <td>Block Group 1</td>\n",
       "      <td>G5030</td>\n",
       "      <td>S</td>\n",
       "      <td>359261041</td>\n",
       "      <td>16334586</td>\n",
       "      <td>+45.8378837</td>\n",
       "      <td>-095.9108467</td>\n",
       "      <td>POLYGON ((-96.13048 45.86130, -96.12940 45.861...</td>\n",
       "    </tr>\n",
       "    <tr>\n",
       "      <th>3</th>\n",
       "      <td>27</td>\n",
       "      <td>051</td>\n",
       "      <td>070100</td>\n",
       "      <td>2</td>\n",
       "      <td>270510701002</td>\n",
       "      <td>Block Group 2</td>\n",
       "      <td>G5030</td>\n",
       "      <td>S</td>\n",
       "      <td>498024195</td>\n",
       "      <td>43000411</td>\n",
       "      <td>+46.0472279</td>\n",
       "      <td>-095.9664894</td>\n",
       "      <td>POLYGON ((-96.26618 46.02237, -96.26614 46.024...</td>\n",
       "    </tr>\n",
       "    <tr>\n",
       "      <th>4</th>\n",
       "      <td>27</td>\n",
       "      <td>053</td>\n",
       "      <td>026508</td>\n",
       "      <td>2</td>\n",
       "      <td>270530265082</td>\n",
       "      <td>Block Group 2</td>\n",
       "      <td>G5030</td>\n",
       "      <td>S</td>\n",
       "      <td>1788814</td>\n",
       "      <td>819265</td>\n",
       "      <td>+45.0508328</td>\n",
       "      <td>-093.4363308</td>\n",
       "      <td>POLYGON ((-93.44624 45.05509, -93.44624 45.055...</td>\n",
       "    </tr>\n",
       "  </tbody>\n",
       "</table>\n",
       "</div>"
      ],
      "text/plain": [
       "  STATEFP COUNTYFP TRACTCE BLKGRPCE         GEOID       NAMELSAD  MTFCC  \\\n",
       "0      27      051  070100        1  270510701001  Block Group 1  G5030   \n",
       "1      27      051  070200        3  270510702003  Block Group 3  G5030   \n",
       "2      27      051  070200        1  270510702001  Block Group 1  G5030   \n",
       "3      27      051  070100        2  270510701002  Block Group 2  G5030   \n",
       "4      27      053  026508        2  270530265082  Block Group 2  G5030   \n",
       "\n",
       "  FUNCSTAT      ALAND    AWATER     INTPTLAT      INTPTLON  \\\n",
       "0        S   17698490   1460274  +45.9945919  -095.9708961   \n",
       "1        S   27137279    586847  +45.8345936  -095.7965525   \n",
       "2        S  359261041  16334586  +45.8378837  -095.9108467   \n",
       "3        S  498024195  43000411  +46.0472279  -095.9664894   \n",
       "4        S    1788814    819265  +45.0508328  -093.4363308   \n",
       "\n",
       "                                            geometry  \n",
       "0  POLYGON ((-96.00778 45.97887, -96.00778 45.979...  \n",
       "1  POLYGON ((-95.84144 45.81994, -95.84144 45.820...  \n",
       "2  POLYGON ((-96.13048 45.86130, -96.12940 45.861...  \n",
       "3  POLYGON ((-96.26618 46.02237, -96.26614 46.024...  \n",
       "4  POLYGON ((-93.44624 45.05509, -93.44624 45.055...  "
      ]
     },
     "execution_count": 61,
     "metadata": {},
     "output_type": "execute_result"
    }
   ],
   "source": [
    "mnBlockGroup.head()"
   ]
  },
  {
   "cell_type": "code",
   "execution_count": 71,
   "metadata": {},
   "outputs": [],
   "source": [
    "censusDF = mnBlockGroup.merge(censusDF, on = \"GEOID\")"
   ]
  },
  {
   "cell_type": "code",
   "execution_count": 74,
   "metadata": {},
   "outputs": [
    {
     "data": {
      "text/html": [
       "<div>\n",
       "<style scoped>\n",
       "    .dataframe tbody tr th:only-of-type {\n",
       "        vertical-align: middle;\n",
       "    }\n",
       "\n",
       "    .dataframe tbody tr th {\n",
       "        vertical-align: top;\n",
       "    }\n",
       "\n",
       "    .dataframe thead th {\n",
       "        text-align: right;\n",
       "    }\n",
       "</style>\n",
       "<table border=\"1\" class=\"dataframe\">\n",
       "  <thead>\n",
       "    <tr style=\"text-align: right;\">\n",
       "      <th></th>\n",
       "      <th>STATEFP</th>\n",
       "      <th>COUNTYFP</th>\n",
       "      <th>TRACTCE</th>\n",
       "      <th>BLKGRPCE</th>\n",
       "      <th>GEOID</th>\n",
       "      <th>NAMELSAD</th>\n",
       "      <th>MTFCC</th>\n",
       "      <th>FUNCSTAT</th>\n",
       "      <th>ALAND</th>\n",
       "      <th>AWATER</th>\n",
       "      <th>INTPTLAT</th>\n",
       "      <th>INTPTLON</th>\n",
       "      <th>geometry</th>\n",
       "      <th>NAME</th>\n",
       "      <th>B01001_001E</th>\n",
       "      <th>state</th>\n",
       "      <th>county</th>\n",
       "      <th>tract</th>\n",
       "      <th>block group</th>\n",
       "      <th>geoid</th>\n",
       "    </tr>\n",
       "  </thead>\n",
       "  <tbody>\n",
       "    <tr>\n",
       "      <th>0</th>\n",
       "      <td>27</td>\n",
       "      <td>051</td>\n",
       "      <td>070100</td>\n",
       "      <td>1</td>\n",
       "      <td>270510701001</td>\n",
       "      <td>Block Group 1</td>\n",
       "      <td>G5030</td>\n",
       "      <td>S</td>\n",
       "      <td>17698490</td>\n",
       "      <td>1460274</td>\n",
       "      <td>+45.9945919</td>\n",
       "      <td>-095.9708961</td>\n",
       "      <td>POLYGON ((-96.00778 45.97887, -96.00778 45.979...</td>\n",
       "      <td>Block Group 1, Census Tract 701, Grant County,...</td>\n",
       "      <td>1166</td>\n",
       "      <td>27</td>\n",
       "      <td>051</td>\n",
       "      <td>070100</td>\n",
       "      <td>1</td>\n",
       "      <td>270510701001</td>\n",
       "    </tr>\n",
       "    <tr>\n",
       "      <th>1</th>\n",
       "      <td>27</td>\n",
       "      <td>051</td>\n",
       "      <td>070200</td>\n",
       "      <td>3</td>\n",
       "      <td>270510702003</td>\n",
       "      <td>Block Group 3</td>\n",
       "      <td>G5030</td>\n",
       "      <td>S</td>\n",
       "      <td>27137279</td>\n",
       "      <td>586847</td>\n",
       "      <td>+45.8345936</td>\n",
       "      <td>-095.7965525</td>\n",
       "      <td>POLYGON ((-95.84144 45.81994, -95.84144 45.820...</td>\n",
       "      <td>Block Group 3, Census Tract 702, Grant County,...</td>\n",
       "      <td>713</td>\n",
       "      <td>27</td>\n",
       "      <td>051</td>\n",
       "      <td>070200</td>\n",
       "      <td>3</td>\n",
       "      <td>270510702003</td>\n",
       "    </tr>\n",
       "    <tr>\n",
       "      <th>2</th>\n",
       "      <td>27</td>\n",
       "      <td>051</td>\n",
       "      <td>070200</td>\n",
       "      <td>1</td>\n",
       "      <td>270510702001</td>\n",
       "      <td>Block Group 1</td>\n",
       "      <td>G5030</td>\n",
       "      <td>S</td>\n",
       "      <td>359261041</td>\n",
       "      <td>16334586</td>\n",
       "      <td>+45.8378837</td>\n",
       "      <td>-095.9108467</td>\n",
       "      <td>POLYGON ((-96.13048 45.86130, -96.12940 45.861...</td>\n",
       "      <td>Block Group 1, Census Tract 702, Grant County,...</td>\n",
       "      <td>1019</td>\n",
       "      <td>27</td>\n",
       "      <td>051</td>\n",
       "      <td>070200</td>\n",
       "      <td>1</td>\n",
       "      <td>270510702001</td>\n",
       "    </tr>\n",
       "    <tr>\n",
       "      <th>3</th>\n",
       "      <td>27</td>\n",
       "      <td>051</td>\n",
       "      <td>070100</td>\n",
       "      <td>2</td>\n",
       "      <td>270510701002</td>\n",
       "      <td>Block Group 2</td>\n",
       "      <td>G5030</td>\n",
       "      <td>S</td>\n",
       "      <td>498024195</td>\n",
       "      <td>43000411</td>\n",
       "      <td>+46.0472279</td>\n",
       "      <td>-095.9664894</td>\n",
       "      <td>POLYGON ((-96.26618 46.02237, -96.26614 46.024...</td>\n",
       "      <td>Block Group 2, Census Tract 701, Grant County,...</td>\n",
       "      <td>1997</td>\n",
       "      <td>27</td>\n",
       "      <td>051</td>\n",
       "      <td>070100</td>\n",
       "      <td>2</td>\n",
       "      <td>270510701002</td>\n",
       "    </tr>\n",
       "    <tr>\n",
       "      <th>4</th>\n",
       "      <td>27</td>\n",
       "      <td>053</td>\n",
       "      <td>026508</td>\n",
       "      <td>2</td>\n",
       "      <td>270530265082</td>\n",
       "      <td>Block Group 2</td>\n",
       "      <td>G5030</td>\n",
       "      <td>S</td>\n",
       "      <td>1788814</td>\n",
       "      <td>819265</td>\n",
       "      <td>+45.0508328</td>\n",
       "      <td>-093.4363308</td>\n",
       "      <td>POLYGON ((-93.44624 45.05509, -93.44624 45.055...</td>\n",
       "      <td>Block Group 2, Census Tract 265.08, Hennepin C...</td>\n",
       "      <td>1390</td>\n",
       "      <td>27</td>\n",
       "      <td>053</td>\n",
       "      <td>026508</td>\n",
       "      <td>2</td>\n",
       "      <td>270530265082</td>\n",
       "    </tr>\n",
       "  </tbody>\n",
       "</table>\n",
       "</div>"
      ],
      "text/plain": [
       "  STATEFP COUNTYFP TRACTCE BLKGRPCE         GEOID       NAMELSAD  MTFCC  \\\n",
       "0      27      051  070100        1  270510701001  Block Group 1  G5030   \n",
       "1      27      051  070200        3  270510702003  Block Group 3  G5030   \n",
       "2      27      051  070200        1  270510702001  Block Group 1  G5030   \n",
       "3      27      051  070100        2  270510701002  Block Group 2  G5030   \n",
       "4      27      053  026508        2  270530265082  Block Group 2  G5030   \n",
       "\n",
       "  FUNCSTAT      ALAND    AWATER     INTPTLAT      INTPTLON  \\\n",
       "0        S   17698490   1460274  +45.9945919  -095.9708961   \n",
       "1        S   27137279    586847  +45.8345936  -095.7965525   \n",
       "2        S  359261041  16334586  +45.8378837  -095.9108467   \n",
       "3        S  498024195  43000411  +46.0472279  -095.9664894   \n",
       "4        S    1788814    819265  +45.0508328  -093.4363308   \n",
       "\n",
       "                                            geometry  \\\n",
       "0  POLYGON ((-96.00778 45.97887, -96.00778 45.979...   \n",
       "1  POLYGON ((-95.84144 45.81994, -95.84144 45.820...   \n",
       "2  POLYGON ((-96.13048 45.86130, -96.12940 45.861...   \n",
       "3  POLYGON ((-96.26618 46.02237, -96.26614 46.024...   \n",
       "4  POLYGON ((-93.44624 45.05509, -93.44624 45.055...   \n",
       "\n",
       "                                                NAME B01001_001E state county  \\\n",
       "0  Block Group 1, Census Tract 701, Grant County,...        1166    27    051   \n",
       "1  Block Group 3, Census Tract 702, Grant County,...         713    27    051   \n",
       "2  Block Group 1, Census Tract 702, Grant County,...        1019    27    051   \n",
       "3  Block Group 2, Census Tract 701, Grant County,...        1997    27    051   \n",
       "4  Block Group 2, Census Tract 265.08, Hennepin C...        1390    27    053   \n",
       "\n",
       "    tract block group         geoid  \n",
       "0  070100           1  270510701001  \n",
       "1  070200           3  270510702003  \n",
       "2  070200           1  270510702001  \n",
       "3  070100           2  270510701002  \n",
       "4  026508           2  270530265082  "
      ]
     },
     "execution_count": 74,
     "metadata": {},
     "output_type": "execute_result"
    }
   ],
   "source": [
    "censusDF.head()"
   ]
  },
  {
   "cell_type": "code",
   "execution_count": 75,
   "metadata": {},
   "outputs": [],
   "source": [
    "censusDF = df_merge"
   ]
  },
  {
   "cell_type": "code",
   "execution_count": 76,
   "metadata": {},
   "outputs": [
    {
     "data": {
      "text/html": [
       "<div>\n",
       "<style scoped>\n",
       "    .dataframe tbody tr th:only-of-type {\n",
       "        vertical-align: middle;\n",
       "    }\n",
       "\n",
       "    .dataframe tbody tr th {\n",
       "        vertical-align: top;\n",
       "    }\n",
       "\n",
       "    .dataframe thead th {\n",
       "        text-align: right;\n",
       "    }\n",
       "</style>\n",
       "<table border=\"1\" class=\"dataframe\">\n",
       "  <thead>\n",
       "    <tr style=\"text-align: right;\">\n",
       "      <th></th>\n",
       "      <th>STATEFP</th>\n",
       "      <th>COUNTYFP</th>\n",
       "      <th>TRACTCE</th>\n",
       "      <th>BLKGRPCE</th>\n",
       "      <th>GEOID</th>\n",
       "      <th>NAMELSAD</th>\n",
       "      <th>MTFCC</th>\n",
       "      <th>FUNCSTAT</th>\n",
       "      <th>ALAND</th>\n",
       "      <th>AWATER</th>\n",
       "      <th>INTPTLAT</th>\n",
       "      <th>INTPTLON</th>\n",
       "      <th>geometry</th>\n",
       "      <th>NAME</th>\n",
       "      <th>B01001_001E</th>\n",
       "      <th>state</th>\n",
       "      <th>county</th>\n",
       "      <th>tract</th>\n",
       "      <th>block group</th>\n",
       "      <th>geoid</th>\n",
       "    </tr>\n",
       "  </thead>\n",
       "  <tbody>\n",
       "    <tr>\n",
       "      <th>0</th>\n",
       "      <td>27</td>\n",
       "      <td>051</td>\n",
       "      <td>070100</td>\n",
       "      <td>1</td>\n",
       "      <td>270510701001</td>\n",
       "      <td>Block Group 1</td>\n",
       "      <td>G5030</td>\n",
       "      <td>S</td>\n",
       "      <td>17698490</td>\n",
       "      <td>1460274</td>\n",
       "      <td>+45.9945919</td>\n",
       "      <td>-095.9708961</td>\n",
       "      <td>POLYGON ((-96.00778 45.97887, -96.00778 45.979...</td>\n",
       "      <td>Block Group 1, Census Tract 701, Grant County,...</td>\n",
       "      <td>1166</td>\n",
       "      <td>27</td>\n",
       "      <td>051</td>\n",
       "      <td>070100</td>\n",
       "      <td>1</td>\n",
       "      <td>270510701001</td>\n",
       "    </tr>\n",
       "    <tr>\n",
       "      <th>1</th>\n",
       "      <td>27</td>\n",
       "      <td>051</td>\n",
       "      <td>070200</td>\n",
       "      <td>3</td>\n",
       "      <td>270510702003</td>\n",
       "      <td>Block Group 3</td>\n",
       "      <td>G5030</td>\n",
       "      <td>S</td>\n",
       "      <td>27137279</td>\n",
       "      <td>586847</td>\n",
       "      <td>+45.8345936</td>\n",
       "      <td>-095.7965525</td>\n",
       "      <td>POLYGON ((-95.84144 45.81994, -95.84144 45.820...</td>\n",
       "      <td>Block Group 3, Census Tract 702, Grant County,...</td>\n",
       "      <td>713</td>\n",
       "      <td>27</td>\n",
       "      <td>051</td>\n",
       "      <td>070200</td>\n",
       "      <td>3</td>\n",
       "      <td>270510702003</td>\n",
       "    </tr>\n",
       "    <tr>\n",
       "      <th>2</th>\n",
       "      <td>27</td>\n",
       "      <td>051</td>\n",
       "      <td>070200</td>\n",
       "      <td>1</td>\n",
       "      <td>270510702001</td>\n",
       "      <td>Block Group 1</td>\n",
       "      <td>G5030</td>\n",
       "      <td>S</td>\n",
       "      <td>359261041</td>\n",
       "      <td>16334586</td>\n",
       "      <td>+45.8378837</td>\n",
       "      <td>-095.9108467</td>\n",
       "      <td>POLYGON ((-96.13048 45.86130, -96.12940 45.861...</td>\n",
       "      <td>Block Group 1, Census Tract 702, Grant County,...</td>\n",
       "      <td>1019</td>\n",
       "      <td>27</td>\n",
       "      <td>051</td>\n",
       "      <td>070200</td>\n",
       "      <td>1</td>\n",
       "      <td>270510702001</td>\n",
       "    </tr>\n",
       "    <tr>\n",
       "      <th>3</th>\n",
       "      <td>27</td>\n",
       "      <td>051</td>\n",
       "      <td>070100</td>\n",
       "      <td>2</td>\n",
       "      <td>270510701002</td>\n",
       "      <td>Block Group 2</td>\n",
       "      <td>G5030</td>\n",
       "      <td>S</td>\n",
       "      <td>498024195</td>\n",
       "      <td>43000411</td>\n",
       "      <td>+46.0472279</td>\n",
       "      <td>-095.9664894</td>\n",
       "      <td>POLYGON ((-96.26618 46.02237, -96.26614 46.024...</td>\n",
       "      <td>Block Group 2, Census Tract 701, Grant County,...</td>\n",
       "      <td>1997</td>\n",
       "      <td>27</td>\n",
       "      <td>051</td>\n",
       "      <td>070100</td>\n",
       "      <td>2</td>\n",
       "      <td>270510701002</td>\n",
       "    </tr>\n",
       "    <tr>\n",
       "      <th>4</th>\n",
       "      <td>27</td>\n",
       "      <td>053</td>\n",
       "      <td>026508</td>\n",
       "      <td>2</td>\n",
       "      <td>270530265082</td>\n",
       "      <td>Block Group 2</td>\n",
       "      <td>G5030</td>\n",
       "      <td>S</td>\n",
       "      <td>1788814</td>\n",
       "      <td>819265</td>\n",
       "      <td>+45.0508328</td>\n",
       "      <td>-093.4363308</td>\n",
       "      <td>POLYGON ((-93.44624 45.05509, -93.44624 45.055...</td>\n",
       "      <td>Block Group 2, Census Tract 265.08, Hennepin C...</td>\n",
       "      <td>1390</td>\n",
       "      <td>27</td>\n",
       "      <td>053</td>\n",
       "      <td>026508</td>\n",
       "      <td>2</td>\n",
       "      <td>270530265082</td>\n",
       "    </tr>\n",
       "  </tbody>\n",
       "</table>\n",
       "</div>"
      ],
      "text/plain": [
       "  STATEFP COUNTYFP TRACTCE BLKGRPCE         GEOID       NAMELSAD  MTFCC  \\\n",
       "0      27      051  070100        1  270510701001  Block Group 1  G5030   \n",
       "1      27      051  070200        3  270510702003  Block Group 3  G5030   \n",
       "2      27      051  070200        1  270510702001  Block Group 1  G5030   \n",
       "3      27      051  070100        2  270510701002  Block Group 2  G5030   \n",
       "4      27      053  026508        2  270530265082  Block Group 2  G5030   \n",
       "\n",
       "  FUNCSTAT      ALAND    AWATER     INTPTLAT      INTPTLON  \\\n",
       "0        S   17698490   1460274  +45.9945919  -095.9708961   \n",
       "1        S   27137279    586847  +45.8345936  -095.7965525   \n",
       "2        S  359261041  16334586  +45.8378837  -095.9108467   \n",
       "3        S  498024195  43000411  +46.0472279  -095.9664894   \n",
       "4        S    1788814    819265  +45.0508328  -093.4363308   \n",
       "\n",
       "                                            geometry  \\\n",
       "0  POLYGON ((-96.00778 45.97887, -96.00778 45.979...   \n",
       "1  POLYGON ((-95.84144 45.81994, -95.84144 45.820...   \n",
       "2  POLYGON ((-96.13048 45.86130, -96.12940 45.861...   \n",
       "3  POLYGON ((-96.26618 46.02237, -96.26614 46.024...   \n",
       "4  POLYGON ((-93.44624 45.05509, -93.44624 45.055...   \n",
       "\n",
       "                                                NAME B01001_001E state county  \\\n",
       "0  Block Group 1, Census Tract 701, Grant County,...        1166    27    051   \n",
       "1  Block Group 3, Census Tract 702, Grant County,...         713    27    051   \n",
       "2  Block Group 1, Census Tract 702, Grant County,...        1019    27    051   \n",
       "3  Block Group 2, Census Tract 701, Grant County,...        1997    27    051   \n",
       "4  Block Group 2, Census Tract 265.08, Hennepin C...        1390    27    053   \n",
       "\n",
       "    tract block group         geoid  \n",
       "0  070100           1  270510701001  \n",
       "1  070200           3  270510702003  \n",
       "2  070200           1  270510702001  \n",
       "3  070100           2  270510701002  \n",
       "4  026508           2  270530265082  "
      ]
     },
     "execution_count": 76,
     "metadata": {},
     "output_type": "execute_result"
    }
   ],
   "source": [
    "censusDF.head()"
   ]
  },
  {
   "cell_type": "code",
   "execution_count": 77,
   "metadata": {},
   "outputs": [],
   "source": [
    "censusDF['INTPTLAT'] = pd.to_numeric(censusDF['INTPTLAT'],errors='coerce')"
   ]
  },
  {
   "cell_type": "code",
   "execution_count": 80,
   "metadata": {},
   "outputs": [],
   "source": [
    "censusDF['INTPTLON'] = pd.to_numeric(censusDF['INTPTLON'],errors='coerce')"
   ]
  },
  {
   "cell_type": "code",
   "execution_count": 82,
   "metadata": {},
   "outputs": [
    {
     "data": {
      "text/plain": [
       "0      -95.970896\n",
       "1      -95.796553\n",
       "2      -95.910847\n",
       "3      -95.966489\n",
       "4      -93.436331\n",
       "          ...    \n",
       "4701   -93.205055\n",
       "4702   -93.084316\n",
       "4703   -93.110475\n",
       "4704   -96.527317\n",
       "4705   -96.977461\n",
       "Name: INTPTLON, Length: 4706, dtype: float64"
      ]
     },
     "execution_count": 82,
     "metadata": {},
     "output_type": "execute_result"
    }
   ],
   "source": [
    "censusDF['INTPTLON']"
   ]
  },
  {
   "cell_type": "code",
   "execution_count": 84,
   "metadata": {},
   "outputs": [],
   "source": [
    "censusBlockList = []\n",
    "for i in range(5):\n",
    "    censusBlockList.append((censusDF.loc[i, 'INTPTLAT'], censusDF.loc[i, 'INTPTLON']))"
   ]
  },
  {
   "cell_type": "code",
   "execution_count": 85,
   "metadata": {},
   "outputs": [
    {
     "data": {
      "text/plain": [
       "[(45.9945919, -95.9708961),\n",
       " (45.8345936, -95.7965525),\n",
       " (45.8378837, -95.9108467),\n",
       " (46.0472279, -95.9664894),\n",
       " (45.0508328, -93.4363308)]"
      ]
     },
     "execution_count": 85,
     "metadata": {},
     "output_type": "execute_result"
    }
   ],
   "source": [
    "censusBlockList"
   ]
  },
  {
   "cell_type": "code",
   "execution_count": 94,
   "metadata": {},
   "outputs": [],
   "source": [
    "positionDict = {\"station\": stationPositionList, \"census block group\": censusBlockList}"
   ]
  },
  {
   "cell_type": "code",
   "execution_count": 87,
   "metadata": {},
   "outputs": [],
   "source": [
    "import plotly.graph_objects as go\n",
    "import numpy as np\n",
    "import plotly"
   ]
  },
  {
   "cell_type": "code",
   "execution_count": 91,
   "metadata": {},
   "outputs": [],
   "source": [
    "censusDFUMN = censusDF[censusDF['TRACTCE']=='104901']"
   ]
  },
  {
   "cell_type": "code",
   "execution_count": 98,
   "metadata": {},
   "outputs": [
    {
     "data": {
      "text/html": [
       "<div>\n",
       "<style scoped>\n",
       "    .dataframe tbody tr th:only-of-type {\n",
       "        vertical-align: middle;\n",
       "    }\n",
       "\n",
       "    .dataframe tbody tr th {\n",
       "        vertical-align: top;\n",
       "    }\n",
       "\n",
       "    .dataframe thead th {\n",
       "        text-align: right;\n",
       "    }\n",
       "</style>\n",
       "<table border=\"1\" class=\"dataframe\">\n",
       "  <thead>\n",
       "    <tr style=\"text-align: right;\">\n",
       "      <th></th>\n",
       "      <th>STATEFP</th>\n",
       "      <th>COUNTYFP</th>\n",
       "      <th>TRACTCE</th>\n",
       "      <th>BLKGRPCE</th>\n",
       "      <th>GEOID</th>\n",
       "      <th>NAMELSAD</th>\n",
       "      <th>MTFCC</th>\n",
       "      <th>FUNCSTAT</th>\n",
       "      <th>ALAND</th>\n",
       "      <th>AWATER</th>\n",
       "      <th>INTPTLAT</th>\n",
       "      <th>INTPTLON</th>\n",
       "      <th>geometry</th>\n",
       "      <th>NAME</th>\n",
       "      <th>B01001_001E</th>\n",
       "      <th>state</th>\n",
       "      <th>county</th>\n",
       "      <th>tract</th>\n",
       "      <th>block group</th>\n",
       "      <th>geoid</th>\n",
       "    </tr>\n",
       "  </thead>\n",
       "  <tbody>\n",
       "    <tr>\n",
       "      <th>559</th>\n",
       "      <td>27</td>\n",
       "      <td>053</td>\n",
       "      <td>104901</td>\n",
       "      <td>1</td>\n",
       "      <td>270531049011</td>\n",
       "      <td>Block Group 1</td>\n",
       "      <td>G5030</td>\n",
       "      <td>S</td>\n",
       "      <td>421213</td>\n",
       "      <td>112735</td>\n",
       "      <td>44.971982</td>\n",
       "      <td>-93.233441</td>\n",
       "      <td>POLYGON ((-93.23927 44.97326, -93.23880 44.973...</td>\n",
       "      <td>Block Group 1, Census Tract 1049.01, Hennepin ...</td>\n",
       "      <td>4484</td>\n",
       "      <td>27</td>\n",
       "      <td>053</td>\n",
       "      <td>104901</td>\n",
       "      <td>1</td>\n",
       "      <td>270531049011</td>\n",
       "    </tr>\n",
       "    <tr>\n",
       "      <th>763</th>\n",
       "      <td>27</td>\n",
       "      <td>053</td>\n",
       "      <td>104901</td>\n",
       "      <td>2</td>\n",
       "      <td>270531049012</td>\n",
       "      <td>Block Group 2</td>\n",
       "      <td>G5030</td>\n",
       "      <td>S</td>\n",
       "      <td>908632</td>\n",
       "      <td>54854</td>\n",
       "      <td>44.977829</td>\n",
       "      <td>-93.234230</td>\n",
       "      <td>POLYGON ((-93.24385 44.97931, -93.24376 44.979...</td>\n",
       "      <td>Block Group 2, Census Tract 1049.01, Hennepin ...</td>\n",
       "      <td>1998</td>\n",
       "      <td>27</td>\n",
       "      <td>053</td>\n",
       "      <td>104901</td>\n",
       "      <td>2</td>\n",
       "      <td>270531049012</td>\n",
       "    </tr>\n",
       "  </tbody>\n",
       "</table>\n",
       "</div>"
      ],
      "text/plain": [
       "    STATEFP COUNTYFP TRACTCE BLKGRPCE         GEOID       NAMELSAD  MTFCC  \\\n",
       "559      27      053  104901        1  270531049011  Block Group 1  G5030   \n",
       "763      27      053  104901        2  270531049012  Block Group 2  G5030   \n",
       "\n",
       "    FUNCSTAT   ALAND  AWATER   INTPTLAT   INTPTLON  \\\n",
       "559        S  421213  112735  44.971982 -93.233441   \n",
       "763        S  908632   54854  44.977829 -93.234230   \n",
       "\n",
       "                                              geometry  \\\n",
       "559  POLYGON ((-93.23927 44.97326, -93.23880 44.973...   \n",
       "763  POLYGON ((-93.24385 44.97931, -93.24376 44.979...   \n",
       "\n",
       "                                                  NAME B01001_001E state  \\\n",
       "559  Block Group 1, Census Tract 1049.01, Hennepin ...        4484    27   \n",
       "763  Block Group 2, Census Tract 1049.01, Hennepin ...        1998    27   \n",
       "\n",
       "    county   tract block group         geoid  \n",
       "559    053  104901           1  270531049011  \n",
       "763    053  104901           2  270531049012  "
      ]
     },
     "execution_count": 98,
     "metadata": {},
     "output_type": "execute_result"
    }
   ],
   "source": [
    "censusDFUMN"
   ]
  },
  {
   "cell_type": "code",
   "execution_count": 92,
   "metadata": {},
   "outputs": [],
   "source": [
    "censusBlockList = []\n",
    "for i in censusDFUMN.index:\n",
    "    censusBlockList.append((censusDFUMN.loc[i, 'INTPTLAT'], censusDFUMN.loc[i, 'INTPTLON']))"
   ]
  },
  {
   "cell_type": "code",
   "execution_count": 93,
   "metadata": {},
   "outputs": [
    {
     "data": {
      "text/plain": [
       "[(44.9719823, -93.2334415), (44.9778291, -93.2342296)]"
      ]
     },
     "execution_count": 93,
     "metadata": {},
     "output_type": "execute_result"
    }
   ],
   "source": [
    "censusBlockList"
   ]
  },
  {
   "cell_type": "code",
   "execution_count": 95,
   "metadata": {},
   "outputs": [],
   "source": [
    "figureFolder = \"./results\"\n",
    "figureName = \"test.html\"\n",
    "plotData(positionDict, ['red', 'green'] ,os.path.join(figureFolder,figureName ))"
   ]
  },
  {
   "cell_type": "code",
   "execution_count": 107,
   "metadata": {},
   "outputs": [],
   "source": [
    "censusDF.to_csv(\"./data/censusData_MN_Population.csv\")"
   ]
  },
  {
   "cell_type": "code",
   "execution_count": 96,
   "metadata": {},
   "outputs": [
    {
     "data": {
      "text/plain": [
       "<AxesSubplot:>"
      ]
     },
     "execution_count": 96,
     "metadata": {},
     "output_type": "execute_result"
    },
    {
     "data": {
      "image/png": "[encoded data removed]",
      "text/plain": [
       "<Figure size 432x288 with 1 Axes>"
      ]
     },
     "metadata": {
      "needs_background": "light"
     },
     "output_type": "display_data"
    }
   ],
   "source": [
    "censusDFUMN.plot()"
   ]
  },
  {
   "cell_type": "code",
   "execution_count": 99,
   "metadata": {},
   "outputs": [],
   "source": [
    "import networkx as nx"
   ]
  },
  {
   "cell_type": "code",
   "execution_count": 100,
   "metadata": {},
   "outputs": [],
   "source": [
    "from utils.spatialShapes import Point"
   ]
  },
  {
   "cell_type": "code",
   "execution_count": 101,
   "metadata": {},
   "outputs": [],
   "source": [
    "import osmnx as ox"
   ]
  },
  {
   "cell_type": "code",
   "execution_count": 103,
   "metadata": {},
   "outputs": [
    {
     "data": {
      "text/plain": [
       "([246710361, 34177358], [62.441805227521264, 73.49242906040053])"
      ]
     },
     "execution_count": 103,
     "metadata": {},
     "output_type": "execute_result"
    }
   ],
   "source": [
    "latlist, lonlist = zip(*censusBlockList)\n",
    "ox.distance.nearest_nodes(graph.graph, lonlist, latlist, return_dist=True)"
   ]
  },
  {
   "cell_type": "code",
   "execution_count": 104,
   "metadata": {},
   "outputs": [
    {
     "data": {
      "text/plain": [
       "[246710361,\n",
       " 246710356,\n",
       " 1821777933,\n",
       " 246710346,\n",
       " 34198362,\n",
       " 34656986,\n",
       " 1813420189,\n",
       " 33632334,\n",
       " 3611069368,\n",
       " 33632452,\n",
       " 240886357,\n",
       " 240886375,\n",
       " 34177358]"
      ]
     },
     "execution_count": 104,
     "metadata": {},
     "output_type": "execute_result"
    }
   ],
   "source": [
    "ox.distance.shortest_path(graph.graph, 246710361, 34177358, weight='length')"
   ]
  },
  {
   "cell_type": "code",
   "execution_count": 106,
   "metadata": {},
   "outputs": [
    {
     "name": "stdout",
     "output_type": "stream",
     "text": [
      "62.441805227521264 70.46782681917685 [246710361, 246710356, 1821777933, 246710346, 34198362, 34665658, 34646309, 244113404, 33359705, 261298089, 244111945, 320363001]\n",
      "62.441805227521264 66.12555583876915 [246710361, 246710356, 1821777933, 246710346, 34198362, 34656986, 1813420189, 33632334, 1449264315, 33304001, 1449264307, 244113498, 34667306, 34645936, 34655777, 33822058]\n",
      "62.441805227521264 98.20830048064921 [246710361, 246710356, 9421986672]\n",
      "62.441805227521264 73.64302031497375 [246710361, 246710356, 1821777933, 246710346, 34198362, 34656986, 1813420189, 33632334, 3611069368, 33842546]\n",
      "62.441805227521264 130.50664577950886 [246710361, 246710356, 1821777933, 246710346, 34198362, 34656986, 1813420189, 33632334, 3611069368, 33842546, 244112865, 34174403, 34178512, 34504631, 34566808]\n",
      "62.441805227521264 91.46854165968767 [246710361, 246710356, 1821777933, 246710346, 34198362, 34656986, 1813420189, 33632334, 3611069368, 33842546, 244112865, 34174403, 34177210, 261319041]\n",
      "62.441805227521264 100.56309819822971 [246710361, 246710356, 1821777933, 246710346, 34198362, 34665658, 34646309, 244113404, 33359705, 261298089]\n",
      "62.441805227521264 142.71768466725018 [246710361, 246710356, 1821777933, 246710346, 34198362, 34656986, 1813420189, 33632334, 3611069368, 33842546, 244112865, 34174403, 34177210, 34191216]\n",
      "73.49242906040053 70.46782681917685 [34177358, 34174403, 244112865, 261298089, 244111945, 320363001]\n",
      "73.49242906040053 66.12555583876915 [34177358, 34174403, 244112865, 33842546, 3611069368, 33632334, 1449264315, 33304001, 1449264307, 244113498, 34667306, 34645936, 34655777, 33822058]\n",
      "73.49242906040053 98.20830048064921 [34177358, 34174403, 244112865, 33842546, 3611069368, 33632334, 1813420189, 33307925, 34656986, 34198362, 246710346, 1821777933, 246710356, 9421986672]\n",
      "73.49242906040053 73.64302031497375 [34177358, 34174403, 244112865, 33842546]\n",
      "73.49242906040053 130.50664577950886 [34177358, 34174403, 34178512, 34504631, 34566808]\n",
      "73.49242906040053 91.46854165968767 [34177358, 34174403, 34177210, 261319041]\n",
      "73.49242906040053 100.56309819822971 [34177358, 34174403, 244112865, 261298089]\n",
      "73.49242906040053 142.71768466725018 [34177358, 34174403, 34177210, 34191216]\n"
     ]
    }
   ],
   "source": [
    "for o in positionDict['census block group']:\n",
    "    for d in positionDict['station']:\n",
    "        origin, dist1 = ox.distance.nearest_nodes(graph.graph, o[1], o[0], return_dist=True)\n",
    "        destination, dist2 = ox.distance.nearest_nodes(graph.graph, d[1], d[0], return_dist=True)\n",
    "        path = ox.distance.shortest_path(graph.graph, origin, destination, weight='length')\n",
    "        print(dist1,dist2,path)"
   ]
  },
  {
   "cell_type": "code",
   "execution_count": null,
   "metadata": {},
   "outputs": [],
   "source": []
  }
 ],
 "metadata": {
  "kernelspec": {
   "display_name": "Python 3.9.13 ('eqCSR')",
   "language": "python",
   "name": "python3"
  },
  "language_info": {
   "codemirror_mode": {
    "name": "ipython",
    "version": 3
   },
   "file_extension": ".py",
   "mimetype": "text/x-python",
   "name": "python",
   "nbconvert_exporter": "python",
   "pygments_lexer": "ipython3",
   "version": "3.9.13"
  },
  "orig_nbformat": 4,
  "vscode": {
   "interpreter": {
    "hash": "54122b1738821401b0adc4a22e65e5564cace2ac4fad685f29e6e97261b3d3d8"
   }
  }
 },
 "nbformat": 4,
 "nbformat_minor": 2
}
