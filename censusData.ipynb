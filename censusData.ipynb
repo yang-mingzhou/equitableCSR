{
 "cells": [
  {
   "cell_type": "code",
   "execution_count": 1,
   "metadata": {},
   "outputs": [],
   "source": [
    "from utils.dataloader import DataLoader\n",
    "from utils.osmGraph import GraphFromHmlFile\n",
    "import os\n",
    "import pandas as pd\n",
    "import io\n",
    "import geopandas as gpd\n",
    "from utils.apiKeys import Censusapi\n",
    "import requests\n",
    "import plotly.graph_objects as go\n",
    "import numpy as np\n",
    "import plotly\n"
   ]
  },
  {
   "cell_type": "code",
   "execution_count": 2,
   "metadata": {},
   "outputs": [
    {
     "name": "stdout",
     "output_type": "stream",
     "text": [
      "109283\n"
     ]
    }
   ],
   "source": [
    "dataFolder = \"./data\"\n",
    "graphFileName = \"hennepinCounty.graphml\"\n",
    "graph = GraphFromHmlFile(os.path.join(dataFolder, graphFileName))\n",
    "print(len(graph.edgesGdf))"
   ]
  },
  {
   "cell_type": "code",
   "execution_count": 3,
   "metadata": {},
   "outputs": [],
   "source": [
    "stationFileName = \"stationData_MN.csv\"\n",
    "stationData = DataLoader.readCSV(os.path.join(dataFolder, stationFileName))"
   ]
  },
  {
   "cell_type": "code",
   "execution_count": 4,
   "metadata": {},
   "outputs": [
    {
     "data": {
      "text/html": [
       "<div>\n",
       "<style scoped>\n",
       "    .dataframe tbody tr th:only-of-type {\n",
       "        vertical-align: middle;\n",
       "    }\n",
       "\n",
       "    .dataframe tbody tr th {\n",
       "        vertical-align: top;\n",
       "    }\n",
       "\n",
       "    .dataframe thead th {\n",
       "        text-align: right;\n",
       "    }\n",
       "</style>\n",
       "<table border=\"1\" class=\"dataframe\">\n",
       "  <thead>\n",
       "    <tr style=\"text-align: right;\">\n",
       "      <th></th>\n",
       "      <th>Unnamed: 0</th>\n",
       "      <th>ZIP</th>\n",
       "      <th>Latitude</th>\n",
       "      <th>Longitude</th>\n",
       "      <th>EV Level1 EVSE Num</th>\n",
       "      <th>EV Level2 EVSE Num</th>\n",
       "      <th>EV DC Fast Count</th>\n",
       "    </tr>\n",
       "  </thead>\n",
       "  <tbody>\n",
       "    <tr>\n",
       "      <th>count</th>\n",
       "      <td>559.000000</td>\n",
       "      <td>559.000000</td>\n",
       "      <td>559.000000</td>\n",
       "      <td>559.000000</td>\n",
       "      <td>559.000000</td>\n",
       "      <td>559.000000</td>\n",
       "      <td>559.000000</td>\n",
       "    </tr>\n",
       "    <tr>\n",
       "      <th>mean</th>\n",
       "      <td>279.000000</td>\n",
       "      <td>55482.341682</td>\n",
       "      <td>45.113029</td>\n",
       "      <td>-93.351857</td>\n",
       "      <td>0.039356</td>\n",
       "      <td>1.930233</td>\n",
       "      <td>0.431127</td>\n",
       "    </tr>\n",
       "    <tr>\n",
       "      <th>std</th>\n",
       "      <td>161.513673</td>\n",
       "      <td>405.437592</td>\n",
       "      <td>0.795041</td>\n",
       "      <td>0.799114</td>\n",
       "      <td>0.547287</td>\n",
       "      <td>1.322726</td>\n",
       "      <td>1.535190</td>\n",
       "    </tr>\n",
       "    <tr>\n",
       "      <th>min</th>\n",
       "      <td>0.000000</td>\n",
       "      <td>53662.000000</td>\n",
       "      <td>43.633850</td>\n",
       "      <td>-96.767240</td>\n",
       "      <td>0.000000</td>\n",
       "      <td>0.000000</td>\n",
       "      <td>0.000000</td>\n",
       "    </tr>\n",
       "    <tr>\n",
       "      <th>25%</th>\n",
       "      <td>139.500000</td>\n",
       "      <td>55124.500000</td>\n",
       "      <td>44.858374</td>\n",
       "      <td>-93.446979</td>\n",
       "      <td>0.000000</td>\n",
       "      <td>1.000000</td>\n",
       "      <td>0.000000</td>\n",
       "    </tr>\n",
       "    <tr>\n",
       "      <th>50%</th>\n",
       "      <td>279.000000</td>\n",
       "      <td>55405.000000</td>\n",
       "      <td>44.969550</td>\n",
       "      <td>-93.275995</td>\n",
       "      <td>0.000000</td>\n",
       "      <td>2.000000</td>\n",
       "      <td>0.000000</td>\n",
       "    </tr>\n",
       "    <tr>\n",
       "      <th>75%</th>\n",
       "      <td>418.500000</td>\n",
       "      <td>55606.000000</td>\n",
       "      <td>45.078028</td>\n",
       "      <td>-93.088530</td>\n",
       "      <td>0.000000</td>\n",
       "      <td>2.000000</td>\n",
       "      <td>0.000000</td>\n",
       "    </tr>\n",
       "    <tr>\n",
       "      <th>max</th>\n",
       "      <td>558.000000</td>\n",
       "      <td>56636.000000</td>\n",
       "      <td>48.054129</td>\n",
       "      <td>-89.692650</td>\n",
       "      <td>12.000000</td>\n",
       "      <td>16.000000</td>\n",
       "      <td>12.000000</td>\n",
       "    </tr>\n",
       "  </tbody>\n",
       "</table>\n",
       "</div>"
      ],
      "text/plain": [
       "       Unnamed: 0           ZIP    Latitude   Longitude  EV Level1 EVSE Num  \\\n",
       "count  559.000000    559.000000  559.000000  559.000000          559.000000   \n",
       "mean   279.000000  55482.341682   45.113029  -93.351857            0.039356   \n",
       "std    161.513673    405.437592    0.795041    0.799114            0.547287   \n",
       "min      0.000000  53662.000000   43.633850  -96.767240            0.000000   \n",
       "25%    139.500000  55124.500000   44.858374  -93.446979            0.000000   \n",
       "50%    279.000000  55405.000000   44.969550  -93.275995            0.000000   \n",
       "75%    418.500000  55606.000000   45.078028  -93.088530            0.000000   \n",
       "max    558.000000  56636.000000   48.054129  -89.692650           12.000000   \n",
       "\n",
       "       EV Level2 EVSE Num  EV DC Fast Count  \n",
       "count          559.000000        559.000000  \n",
       "mean             1.930233          0.431127  \n",
       "std              1.322726          1.535190  \n",
       "min              0.000000          0.000000  \n",
       "25%              1.000000          0.000000  \n",
       "50%              2.000000          0.000000  \n",
       "75%              2.000000          0.000000  \n",
       "max             16.000000         12.000000  "
      ]
     },
     "execution_count": 4,
     "metadata": {},
     "output_type": "execute_result"
    }
   ],
   "source": [
    "stationData.describe()"
   ]
  },
  {
   "cell_type": "code",
   "execution_count": 5,
   "metadata": {},
   "outputs": [],
   "source": [
    "stationDataSelected = stationData[stationData['ZIP'] == 55455]"
   ]
  },
  {
   "cell_type": "code",
   "execution_count": 6,
   "metadata": {},
   "outputs": [
    {
     "data": {
      "text/plain": [
       "Int64Index([36, 52, 76, 77, 80, 81, 105, 188], dtype='int64')"
      ]
     },
     "execution_count": 6,
     "metadata": {},
     "output_type": "execute_result"
    }
   ],
   "source": [
    "stationDataSelected.index"
   ]
  },
  {
   "cell_type": "code",
   "execution_count": 7,
   "metadata": {},
   "outputs": [],
   "source": [
    "stationPositionList = []\n",
    "for i in stationDataSelected.index:\n",
    "    stationPositionList.append((stationDataSelected.loc[i, 'Latitude'], stationDataSelected.loc[i, 'Longitude']))"
   ]
  },
  {
   "cell_type": "code",
   "execution_count": 8,
   "metadata": {},
   "outputs": [
    {
     "data": {
      "text/plain": [
       "[(44.974036, -93.230989),\n",
       " (44.969677, -93.243328),\n",
       " (44.97145, -93.236027),\n",
       " (44.976321, -93.23395),\n",
       " (44.978214, -93.224562),\n",
       " (44.976277, -93.228946),\n",
       " (44.973875, -93.230153),\n",
       " (44.979167, -93.228946)]"
      ]
     },
     "execution_count": 8,
     "metadata": {},
     "output_type": "execute_result"
    }
   ],
   "source": [
    "stationPositionList"
   ]
  },
  {
   "cell_type": "code",
   "execution_count": 9,
   "metadata": {},
   "outputs": [],
   "source": [
    "censusFileName = \"censusData_MN_Population.csv\"\n",
    "censusData = DataLoader.readCSV(os.path.join(dataFolder, censusFileName))"
   ]
  },
  {
   "cell_type": "code",
   "execution_count": 10,
   "metadata": {},
   "outputs": [
    {
     "data": {
      "text/html": [
       "<div>\n",
       "<style scoped>\n",
       "    .dataframe tbody tr th:only-of-type {\n",
       "        vertical-align: middle;\n",
       "    }\n",
       "\n",
       "    .dataframe tbody tr th {\n",
       "        vertical-align: top;\n",
       "    }\n",
       "\n",
       "    .dataframe thead th {\n",
       "        text-align: right;\n",
       "    }\n",
       "</style>\n",
       "<table border=\"1\" class=\"dataframe\">\n",
       "  <thead>\n",
       "    <tr style=\"text-align: right;\">\n",
       "      <th></th>\n",
       "      <th>Unnamed: 0</th>\n",
       "      <th>STATEFP</th>\n",
       "      <th>COUNTYFP</th>\n",
       "      <th>TRACTCE</th>\n",
       "      <th>BLKGRPCE</th>\n",
       "      <th>GEOID</th>\n",
       "      <th>ALAND</th>\n",
       "      <th>AWATER</th>\n",
       "      <th>INTPTLAT</th>\n",
       "      <th>INTPTLON</th>\n",
       "      <th>B01001_001E</th>\n",
       "      <th>state</th>\n",
       "      <th>county</th>\n",
       "      <th>tract</th>\n",
       "      <th>block group</th>\n",
       "      <th>geoid</th>\n",
       "    </tr>\n",
       "  </thead>\n",
       "  <tbody>\n",
       "    <tr>\n",
       "      <th>count</th>\n",
       "      <td>4706.000000</td>\n",
       "      <td>4706.0</td>\n",
       "      <td>4706.000000</td>\n",
       "      <td>4706.000000</td>\n",
       "      <td>4706.000000</td>\n",
       "      <td>4.706000e+03</td>\n",
       "      <td>4.706000e+03</td>\n",
       "      <td>4.706000e+03</td>\n",
       "      <td>4706.000000</td>\n",
       "      <td>4706.000000</td>\n",
       "      <td>4706.000000</td>\n",
       "      <td>4706.0</td>\n",
       "      <td>4706.000000</td>\n",
       "      <td>4706.000000</td>\n",
       "      <td>4706.000000</td>\n",
       "      <td>4.706000e+03</td>\n",
       "    </tr>\n",
       "    <tr>\n",
       "      <th>mean</th>\n",
       "      <td>2352.500000</td>\n",
       "      <td>27.0</td>\n",
       "      <td>80.320017</td>\n",
       "      <td>204739.733532</td>\n",
       "      <td>2.238207</td>\n",
       "      <td>2.708052e+11</td>\n",
       "      <td>4.382324e+07</td>\n",
       "      <td>4.026745e+06</td>\n",
       "      <td>45.232614</td>\n",
       "      <td>-93.594910</td>\n",
       "      <td>1190.005525</td>\n",
       "      <td>27.0</td>\n",
       "      <td>80.320017</td>\n",
       "      <td>204739.733532</td>\n",
       "      <td>2.238207</td>\n",
       "      <td>2.708052e+11</td>\n",
       "    </tr>\n",
       "    <tr>\n",
       "      <th>std</th>\n",
       "      <td>1358.649513</td>\n",
       "      <td>0.0</td>\n",
       "      <td>50.377466</td>\n",
       "      <td>307551.101353</td>\n",
       "      <td>1.143291</td>\n",
       "      <td>5.039194e+08</td>\n",
       "      <td>1.459062e+08</td>\n",
       "      <td>7.060843e+07</td>\n",
       "      <td>0.967383</td>\n",
       "      <td>1.000160</td>\n",
       "      <td>535.489228</td>\n",
       "      <td>0.0</td>\n",
       "      <td>50.377466</td>\n",
       "      <td>307551.101353</td>\n",
       "      <td>1.143291</td>\n",
       "      <td>5.039194e+08</td>\n",
       "    </tr>\n",
       "    <tr>\n",
       "      <th>min</th>\n",
       "      <td>0.000000</td>\n",
       "      <td>27.0</td>\n",
       "      <td>1.000000</td>\n",
       "      <td>100.000000</td>\n",
       "      <td>0.000000</td>\n",
       "      <td>2.700177e+11</td>\n",
       "      <td>0.000000e+00</td>\n",
       "      <td>0.000000e+00</td>\n",
       "      <td>43.511983</td>\n",
       "      <td>-97.029791</td>\n",
       "      <td>0.000000</td>\n",
       "      <td>27.0</td>\n",
       "      <td>1.000000</td>\n",
       "      <td>100.000000</td>\n",
       "      <td>0.000000</td>\n",
       "      <td>2.700177e+11</td>\n",
       "    </tr>\n",
       "    <tr>\n",
       "      <th>25%</th>\n",
       "      <td>1176.250000</td>\n",
       "      <td>27.0</td>\n",
       "      <td>41.000000</td>\n",
       "      <td>26708.750000</td>\n",
       "      <td>1.000000</td>\n",
       "      <td>2.704145e+11</td>\n",
       "      <td>6.362640e+05</td>\n",
       "      <td>0.000000e+00</td>\n",
       "      <td>44.819986</td>\n",
       "      <td>-93.830478</td>\n",
       "      <td>816.250000</td>\n",
       "      <td>27.0</td>\n",
       "      <td>41.000000</td>\n",
       "      <td>26708.750000</td>\n",
       "      <td>1.000000</td>\n",
       "      <td>2.704145e+11</td>\n",
       "    </tr>\n",
       "    <tr>\n",
       "      <th>50%</th>\n",
       "      <td>2352.500000</td>\n",
       "      <td>27.0</td>\n",
       "      <td>53.000000</td>\n",
       "      <td>60739.000000</td>\n",
       "      <td>2.000000</td>\n",
       "      <td>2.705313e+11</td>\n",
       "      <td>1.582888e+06</td>\n",
       "      <td>1.610050e+04</td>\n",
       "      <td>44.984657</td>\n",
       "      <td>-93.307253</td>\n",
       "      <td>1099.000000</td>\n",
       "      <td>27.0</td>\n",
       "      <td>53.000000</td>\n",
       "      <td>60739.000000</td>\n",
       "      <td>2.000000</td>\n",
       "      <td>2.705313e+11</td>\n",
       "    </tr>\n",
       "    <tr>\n",
       "      <th>75%</th>\n",
       "      <td>3528.750000</td>\n",
       "      <td>27.0</td>\n",
       "      <td>123.000000</td>\n",
       "      <td>130276.500000</td>\n",
       "      <td>3.000000</td>\n",
       "      <td>2.712304e+11</td>\n",
       "      <td>1.627754e+07</td>\n",
       "      <td>4.741442e+05</td>\n",
       "      <td>45.334613</td>\n",
       "      <td>-93.114646</td>\n",
       "      <td>1481.750000</td>\n",
       "      <td>27.0</td>\n",
       "      <td>123.000000</td>\n",
       "      <td>130276.500000</td>\n",
       "      <td>3.000000</td>\n",
       "      <td>2.712304e+11</td>\n",
       "    </tr>\n",
       "    <tr>\n",
       "      <th>max</th>\n",
       "      <td>4705.000000</td>\n",
       "      <td>27.0</td>\n",
       "      <td>173.000000</td>\n",
       "      <td>990100.000000</td>\n",
       "      <td>7.000000</td>\n",
       "      <td>2.717397e+11</td>\n",
       "      <td>3.877442e+09</td>\n",
       "      <td>4.185238e+09</td>\n",
       "      <td>48.973930</td>\n",
       "      <td>-90.016378</td>\n",
       "      <td>4484.000000</td>\n",
       "      <td>27.0</td>\n",
       "      <td>173.000000</td>\n",
       "      <td>990100.000000</td>\n",
       "      <td>7.000000</td>\n",
       "      <td>2.717397e+11</td>\n",
       "    </tr>\n",
       "  </tbody>\n",
       "</table>\n",
       "</div>"
      ],
      "text/plain": [
       "        Unnamed: 0  STATEFP     COUNTYFP        TRACTCE     BLKGRPCE  \\\n",
       "count  4706.000000   4706.0  4706.000000    4706.000000  4706.000000   \n",
       "mean   2352.500000     27.0    80.320017  204739.733532     2.238207   \n",
       "std    1358.649513      0.0    50.377466  307551.101353     1.143291   \n",
       "min       0.000000     27.0     1.000000     100.000000     0.000000   \n",
       "25%    1176.250000     27.0    41.000000   26708.750000     1.000000   \n",
       "50%    2352.500000     27.0    53.000000   60739.000000     2.000000   \n",
       "75%    3528.750000     27.0   123.000000  130276.500000     3.000000   \n",
       "max    4705.000000     27.0   173.000000  990100.000000     7.000000   \n",
       "\n",
       "              GEOID         ALAND        AWATER     INTPTLAT     INTPTLON  \\\n",
       "count  4.706000e+03  4.706000e+03  4.706000e+03  4706.000000  4706.000000   \n",
       "mean   2.708052e+11  4.382324e+07  4.026745e+06    45.232614   -93.594910   \n",
       "std    5.039194e+08  1.459062e+08  7.060843e+07     0.967383     1.000160   \n",
       "min    2.700177e+11  0.000000e+00  0.000000e+00    43.511983   -97.029791   \n",
       "25%    2.704145e+11  6.362640e+05  0.000000e+00    44.819986   -93.830478   \n",
       "50%    2.705313e+11  1.582888e+06  1.610050e+04    44.984657   -93.307253   \n",
       "75%    2.712304e+11  1.627754e+07  4.741442e+05    45.334613   -93.114646   \n",
       "max    2.717397e+11  3.877442e+09  4.185238e+09    48.973930   -90.016378   \n",
       "\n",
       "       B01001_001E   state       county          tract  block group  \\\n",
       "count  4706.000000  4706.0  4706.000000    4706.000000  4706.000000   \n",
       "mean   1190.005525    27.0    80.320017  204739.733532     2.238207   \n",
       "std     535.489228     0.0    50.377466  307551.101353     1.143291   \n",
       "min       0.000000    27.0     1.000000     100.000000     0.000000   \n",
       "25%     816.250000    27.0    41.000000   26708.750000     1.000000   \n",
       "50%    1099.000000    27.0    53.000000   60739.000000     2.000000   \n",
       "75%    1481.750000    27.0   123.000000  130276.500000     3.000000   \n",
       "max    4484.000000    27.0   173.000000  990100.000000     7.000000   \n",
       "\n",
       "              geoid  \n",
       "count  4.706000e+03  \n",
       "mean   2.708052e+11  \n",
       "std    5.039194e+08  \n",
       "min    2.700177e+11  \n",
       "25%    2.704145e+11  \n",
       "50%    2.705313e+11  \n",
       "75%    2.712304e+11  \n",
       "max    2.717397e+11  "
      ]
     },
     "execution_count": 10,
     "metadata": {},
     "output_type": "execute_result"
    }
   ],
   "source": [
    "censusData.describe()"
   ]
  },
  {
   "cell_type": "code",
   "execution_count": 11,
   "metadata": {},
   "outputs": [],
   "source": [
    "censusDataSelected = censusData[censusData['TRACTCE']==104901]"
   ]
  },
  {
   "cell_type": "code",
   "execution_count": 34,
   "metadata": {},
   "outputs": [
    {
     "data": {
      "text/html": [
       "<div>\n",
       "<style scoped>\n",
       "    .dataframe tbody tr th:only-of-type {\n",
       "        vertical-align: middle;\n",
       "    }\n",
       "\n",
       "    .dataframe tbody tr th {\n",
       "        vertical-align: top;\n",
       "    }\n",
       "\n",
       "    .dataframe thead th {\n",
       "        text-align: right;\n",
       "    }\n",
       "</style>\n",
       "<table border=\"1\" class=\"dataframe\">\n",
       "  <thead>\n",
       "    <tr style=\"text-align: right;\">\n",
       "      <th></th>\n",
       "      <th>Unnamed: 0</th>\n",
       "      <th>STATEFP</th>\n",
       "      <th>COUNTYFP</th>\n",
       "      <th>TRACTCE</th>\n",
       "      <th>BLKGRPCE</th>\n",
       "      <th>GEOID</th>\n",
       "      <th>NAMELSAD</th>\n",
       "      <th>MTFCC</th>\n",
       "      <th>FUNCSTAT</th>\n",
       "      <th>ALAND</th>\n",
       "      <th>...</th>\n",
       "      <th>INTPTLAT</th>\n",
       "      <th>INTPTLON</th>\n",
       "      <th>geometry</th>\n",
       "      <th>NAME</th>\n",
       "      <th>B01001_001E</th>\n",
       "      <th>state</th>\n",
       "      <th>county</th>\n",
       "      <th>tract</th>\n",
       "      <th>block group</th>\n",
       "      <th>geoid</th>\n",
       "    </tr>\n",
       "  </thead>\n",
       "  <tbody>\n",
       "    <tr>\n",
       "      <th>559</th>\n",
       "      <td>559</td>\n",
       "      <td>27</td>\n",
       "      <td>53</td>\n",
       "      <td>104901</td>\n",
       "      <td>1</td>\n",
       "      <td>270531049011</td>\n",
       "      <td>Block Group 1</td>\n",
       "      <td>G5030</td>\n",
       "      <td>S</td>\n",
       "      <td>421213</td>\n",
       "      <td>...</td>\n",
       "      <td>44.971982</td>\n",
       "      <td>-93.233441</td>\n",
       "      <td>POLYGON ((-93.239268 44.973257, -93.2388 44.97...</td>\n",
       "      <td>Block Group 1, Census Tract 1049.01, Hennepin ...</td>\n",
       "      <td>4484</td>\n",
       "      <td>27</td>\n",
       "      <td>53</td>\n",
       "      <td>104901</td>\n",
       "      <td>1</td>\n",
       "      <td>270531049011</td>\n",
       "    </tr>\n",
       "    <tr>\n",
       "      <th>763</th>\n",
       "      <td>763</td>\n",
       "      <td>27</td>\n",
       "      <td>53</td>\n",
       "      <td>104901</td>\n",
       "      <td>2</td>\n",
       "      <td>270531049012</td>\n",
       "      <td>Block Group 2</td>\n",
       "      <td>G5030</td>\n",
       "      <td>S</td>\n",
       "      <td>908632</td>\n",
       "      <td>...</td>\n",
       "      <td>44.977829</td>\n",
       "      <td>-93.234230</td>\n",
       "      <td>POLYGON ((-93.243853 44.979307999999996, -93.2...</td>\n",
       "      <td>Block Group 2, Census Tract 1049.01, Hennepin ...</td>\n",
       "      <td>1998</td>\n",
       "      <td>27</td>\n",
       "      <td>53</td>\n",
       "      <td>104901</td>\n",
       "      <td>2</td>\n",
       "      <td>270531049012</td>\n",
       "    </tr>\n",
       "  </tbody>\n",
       "</table>\n",
       "<p>2 rows × 21 columns</p>\n",
       "</div>"
      ],
      "text/plain": [
       "     Unnamed: 0  STATEFP  COUNTYFP  TRACTCE  BLKGRPCE         GEOID  \\\n",
       "559         559       27        53   104901         1  270531049011   \n",
       "763         763       27        53   104901         2  270531049012   \n",
       "\n",
       "          NAMELSAD  MTFCC FUNCSTAT   ALAND  ...   INTPTLAT   INTPTLON  \\\n",
       "559  Block Group 1  G5030        S  421213  ...  44.971982 -93.233441   \n",
       "763  Block Group 2  G5030        S  908632  ...  44.977829 -93.234230   \n",
       "\n",
       "                                              geometry  \\\n",
       "559  POLYGON ((-93.239268 44.973257, -93.2388 44.97...   \n",
       "763  POLYGON ((-93.243853 44.979307999999996, -93.2...   \n",
       "\n",
       "                                                  NAME B01001_001E  state  \\\n",
       "559  Block Group 1, Census Tract 1049.01, Hennepin ...        4484     27   \n",
       "763  Block Group 2, Census Tract 1049.01, Hennepin ...        1998     27   \n",
       "\n",
       "     county   tract  block group         geoid  \n",
       "559      53  104901            1  270531049011  \n",
       "763      53  104901            2  270531049012  \n",
       "\n",
       "[2 rows x 21 columns]"
      ]
     },
     "execution_count": 34,
     "metadata": {},
     "output_type": "execute_result"
    }
   ],
   "source": [
    "censusDataSelected"
   ]
  },
  {
   "cell_type": "code",
   "execution_count": 12,
   "metadata": {},
   "outputs": [],
   "source": [
    "censusBlockList = []\n",
    "for i in censusDataSelected.index:\n",
    "    censusBlockList.append((censusDataSelected.loc[i, 'INTPTLAT'], censusDataSelected.loc[i, 'INTPTLON']))"
   ]
  },
  {
   "cell_type": "code",
   "execution_count": 13,
   "metadata": {},
   "outputs": [
    {
     "data": {
      "text/plain": [
       "[(44.9719823, -93.2334415), (44.9778291, -93.2342296)]"
      ]
     },
     "execution_count": 13,
     "metadata": {},
     "output_type": "execute_result"
    }
   ],
   "source": [
    "censusBlockList"
   ]
  },
  {
   "cell_type": "code",
   "execution_count": 14,
   "metadata": {},
   "outputs": [],
   "source": [
    "positionDict = {\"station\": stationPositionList, \"census block group\": censusBlockList}"
   ]
  },
  {
   "cell_type": "code",
   "execution_count": 35,
   "metadata": {},
   "outputs": [],
   "source": [
    "figureFolder = \"./results\"\n",
    "figureName = \"test.html\"\n",
    "graph.plotData(positionDict, ['green', 'red'] ,os.path.join(figureFolder,figureName))"
   ]
  },
  {
   "cell_type": "code",
   "execution_count": 16,
   "metadata": {},
   "outputs": [
    {
     "data": {
      "text/plain": [
       "([320363001,\n",
       "  33822058,\n",
       "  9421986672,\n",
       "  33842546,\n",
       "  34566808,\n",
       "  261319041,\n",
       "  261298089,\n",
       "  34191216],\n",
       " [70.46782681917685,\n",
       "  66.12555583876915,\n",
       "  98.20830048064921,\n",
       "  73.64302031497375,\n",
       "  130.50664577950886,\n",
       "  91.46854165968767,\n",
       "  100.56309819822971,\n",
       "  142.71768466725018])"
      ]
     },
     "execution_count": 16,
     "metadata": {},
     "output_type": "execute_result"
    }
   ],
   "source": [
    "stationLatList,  stationLonList = zip(*stationPositionList)\n",
    "stationNodeList,  stationDisToNode = graph.getNearestNode(stationLatList, stationLonList)\n",
    "stationNodeList,  stationDisToNode"
   ]
  },
  {
   "cell_type": "code",
   "execution_count": 17,
   "metadata": {},
   "outputs": [
    {
     "data": {
      "text/plain": [
       "([246710361, 34177358], [62.441805227521264, 73.49242906040053])"
      ]
     },
     "execution_count": 17,
     "metadata": {},
     "output_type": "execute_result"
    }
   ],
   "source": [
    "censusLatList,  censusLonList = zip(*censusBlockList)\n",
    "censusNodeList,  censusDisToNode = graph.getNearestNode(censusLatList, censusLonList)\n",
    "censusNodeList,  censusDisToNode"
   ]
  },
  {
   "cell_type": "code",
   "execution_count": 28,
   "metadata": {},
   "outputs": [],
   "source": [
    "distanceToEachStation = {}\n",
    "pathList = []\n",
    "for o in censusNodeList:\n",
    "    disList = []\n",
    "    for d in stationNodeList:\n",
    "        path = graph.shortestPath(o, d)\n",
    "        pathList.append(path)\n",
    "        disList.append(graph.calPathLength(path))\n",
    "    distanceToEachStation[o] = disList"
   ]
  },
  {
   "cell_type": "code",
   "execution_count": 26,
   "metadata": {},
   "outputs": [
    {
     "data": {
      "text/plain": [
       "{246710361: [1757.195,\n",
       "  2446.6720000000005,\n",
       "  199.637,\n",
       "  1210.4830000000002,\n",
       "  2013.714,\n",
       "  1762.9250000000002,\n",
       "  1556.426,\n",
       "  1597.385],\n",
       " 34177358: [843.027,\n",
       "  2378.996,\n",
       "  1323.3860000000002,\n",
       "  263.11899999999997,\n",
       "  790.1579999999999,\n",
       "  539.3689999999999,\n",
       "  642.258,\n",
       "  373.82899999999995]}"
      ]
     },
     "execution_count": 26,
     "metadata": {},
     "output_type": "execute_result"
    }
   ],
   "source": [
    "distanceToEachStation"
   ]
  },
  {
   "cell_type": "code",
   "execution_count": 33,
   "metadata": {},
   "outputs": [
    {
     "data": {
      "text/plain": [
       "[246710361,\n",
       " 246710356,\n",
       " 1821777933,\n",
       " 246710346,\n",
       " 34198362,\n",
       " 34665658,\n",
       " 34646309,\n",
       " 244113404,\n",
       " 33359705,\n",
       " 261298089,\n",
       " 244111945,\n",
       " 320363001]"
      ]
     },
     "execution_count": 33,
     "metadata": {},
     "output_type": "execute_result"
    }
   ],
   "source": [
    "pathList[0]"
   ]
  },
  {
   "cell_type": "code",
   "execution_count": 30,
   "metadata": {},
   "outputs": [
    {
     "data": {
      "text/plain": [
       "[[44.9724653, -93.2338464],\n",
       " [44.972458, -93.2345925],\n",
       " [44.9724115, -93.2346998],\n",
       " [44.9723859, -93.2348491],\n",
       " [44.9723902, -93.2353495],\n",
       " [44.9723948, -93.2359434],\n",
       " [44.9724257, -93.236043],\n",
       " [44.9724811, -93.2361005],\n",
       " [44.9724811, -93.2361005],\n",
       " [44.9726636, -93.2361744],\n",
       " [44.972678, -93.2361802],\n",
       " [44.9727526, -93.2362262],\n",
       " [44.9727755, -93.2362503],\n",
       " [44.9727961, -93.2362718],\n",
       " [44.9728286, -93.2363417],\n",
       " [44.9728475, -93.2364038],\n",
       " [44.9728475, -93.2364038],\n",
       " [44.9728436, -93.2365236],\n",
       " [44.9728295, -93.2366957],\n",
       " [44.9728295, -93.2366957],\n",
       " [44.9728097, -93.2367804],\n",
       " [44.9728017, -93.236863],\n",
       " [44.9727885, -93.2377713],\n",
       " [44.9727864, -93.2379178],\n",
       " [44.9727864, -93.2379178],\n",
       " [44.9726789, -93.2379031],\n",
       " [44.9726613, -93.2379007],\n",
       " [44.9726441, -93.2378984],\n",
       " [44.9724745, -93.2378513],\n",
       " [44.9722075, -93.2377546],\n",
       " [44.9720807, -93.2376868],\n",
       " [44.9720276, -93.2376584],\n",
       " [44.9720276, -93.2376584],\n",
       " [44.971973, -93.2376373],\n",
       " [44.9719641, -93.2376339],\n",
       " [44.9719061, -93.2376116],\n",
       " [44.9717904, -93.2375082],\n",
       " [44.9716694, -93.2373727],\n",
       " [44.9715533, -93.2371828],\n",
       " [44.9714864, -93.2370386],\n",
       " [44.9714231, -93.2368449],\n",
       " [44.9713852, -93.2367085],\n",
       " [44.9713594, -93.2365688],\n",
       " [44.9713409, -93.2364501],\n",
       " [44.9713104, -93.2361335],\n",
       " [44.9713046, -93.2360547],\n",
       " [44.9712977, -93.2359535],\n",
       " [44.9712646, -93.2356299],\n",
       " [44.97125, -93.2355619],\n",
       " [44.9712305, -93.2354934],\n",
       " [44.9712181, -93.2354269],\n",
       " [44.9712141, -93.235374],\n",
       " [44.9712168, -93.2353251],\n",
       " [44.9712246, -93.2352355],\n",
       " [44.9712392, -93.2351582],\n",
       " [44.9712589, -93.2350198],\n",
       " [44.9712575, -93.2349572],\n",
       " [44.9712446, -93.2348692],\n",
       " [44.9712098, -93.2347208],\n",
       " [44.9711966, -93.2345565],\n",
       " [44.9711966, -93.2345565],\n",
       " [44.971164, -93.2344369],\n",
       " [44.9711316, -93.2343181],\n",
       " [44.9710905, -93.2341536],\n",
       " [44.9710134, -93.2338542],\n",
       " [44.9709527, -93.2336053],\n",
       " [44.9708919, -93.2333564],\n",
       " [44.9708572, -93.2331974],\n",
       " [44.9708342, -93.2330922],\n",
       " [44.9707882, -93.2328422],\n",
       " [44.9707568, -93.2325466],\n",
       " [44.9707386, -93.2322796],\n",
       " [44.9707341, -93.2319745],\n",
       " [44.9706855, -93.2316312],\n",
       " [44.9706126, -93.2312793],\n",
       " [44.9705098, -93.2308726],\n",
       " [44.9704783, -93.2307571],\n",
       " [44.9704151, -93.2305218],\n",
       " [44.9703616, -93.2303634],\n",
       " [44.9703616, -93.2303634],\n",
       " [44.9704128, -93.2303286],\n",
       " [44.9704519, -93.2303077],\n",
       " [44.9704813, -93.2302988],\n",
       " [44.9705163, -93.2302912],\n",
       " [44.9705733, -93.2302838],\n",
       " [44.9710582, -93.2302847],\n",
       " [44.9714984, -93.2302935],\n",
       " [44.9715758, -93.2302954],\n",
       " [44.9718584, -93.230293],\n",
       " [44.9721432, -93.2302917],\n",
       " [44.9722339, -93.2302932],\n",
       " [44.972297, -93.2302924],\n",
       " [44.9724794, -93.2302858],\n",
       " [44.9725356, -93.2302845],\n",
       " [44.9725356, -93.2302845],\n",
       " [44.9726179, -93.2302859],\n",
       " [44.9728549, -93.2302899],\n",
       " [44.9731869, -93.2302954],\n",
       " [44.9733015, -93.2303],\n",
       " [44.9735591, -93.2302929],\n",
       " [44.9736051, -93.230295],\n",
       " [44.9736339, -93.2302982],\n",
       " [44.9736865, -93.2303011],\n",
       " [44.9737337, -93.2303038],\n",
       " [44.9737574, -93.230305],\n",
       " [44.9738112, -93.2303097],\n",
       " [44.9738835, -93.2303148],\n",
       " [44.9740365, -93.2303218],\n",
       " [44.9741564, -93.2303205],\n",
       " [44.9745182, -93.2303166],\n",
       " [44.9746858, -93.2303184],\n",
       " [44.9747717, -93.2303193],\n",
       " [44.9747717, -93.2303193],\n",
       " [44.9747739, -93.2304756],\n",
       " [44.974778, -93.2310523],\n",
       " [44.9747785, -93.2311749],\n",
       " [44.97478, -93.2317625],\n",
       " [44.974779, -93.2318923],\n",
       " [44.974779, -93.2318923],\n",
       " [44.9740863, -93.231882]]"
      ]
     },
     "execution_count": 30,
     "metadata": {},
     "output_type": "execute_result"
    }
   ],
   "source": [
    "graph.nodeList2GPSTraj(pathList[0])"
   ]
  },
  {
   "cell_type": "code",
   "execution_count": 32,
   "metadata": {},
   "outputs": [],
   "source": [
    "figureName = \"testPath.html\"\n",
    "graph.plotTrajList([graph.nodeList2GPSTraj(pathList[0])], os.path.join(figureFolder,figureName))"
   ]
  },
  {
   "cell_type": "code",
   "execution_count": null,
   "metadata": {},
   "outputs": [],
   "source": []
  }
 ],
 "metadata": {
  "kernelspec": {
   "display_name": "Python 3.9.13 ('eqCSR')",
   "language": "python",
   "name": "python3"
  },
  "language_info": {
   "codemirror_mode": {
    "name": "ipython",
    "version": 3
   },
   "file_extension": ".py",
   "mimetype": "text/x-python",
   "name": "python",
   "nbconvert_exporter": "python",
   "pygments_lexer": "ipython3",
   "version": "3.9.13"
  },
  "orig_nbformat": 4,
  "vscode": {
   "interpreter": {
    "hash": "54122b1738821401b0adc4a22e65e5564cace2ac4fad685f29e6e97261b3d3d8"
   }
  }
 },
 "nbformat": 4,
 "nbformat_minor": 2
}
